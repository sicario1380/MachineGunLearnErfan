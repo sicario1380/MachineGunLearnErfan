{
 "cells": [
  {
   "cell_type": "code",
   "execution_count": 10,
   "id": "292b41a7-5c09-42ea-bc3f-367a57e84092",
   "metadata": {},
   "outputs": [
    {
     "name": "stdout",
     "output_type": "stream",
     "text": [
      "[1, 4, 27, 3125]\n"
     ]
    }
   ],
   "source": [
    "x = [1,2,3,5]\n",
    "y = lambda x: pow(x,x)\n",
    "print(list(map(y,x)))"
   ]
  },
  {
   "cell_type": "code",
   "execution_count": 13,
   "id": "504ed782-4af5-4282-a632-c12b7edc3ad1",
   "metadata": {},
   "outputs": [
    {
     "name": "stdin",
     "output_type": "stream",
     "text": [
      "Enter P(Traffic | Late):  .23\n",
      "Enter P(Late):  123\n"
     ]
    },
    {
     "name": "stdout",
     "output_type": "stream",
     "text": [
      "Invalid input.must be between 0 and 1, chump don't play wit me!\n"
     ]
    },
    {
     "name": "stdin",
     "output_type": "stream",
     "text": [
      "Enter P(Late):  3\n"
     ]
    },
    {
     "name": "stdout",
     "output_type": "stream",
     "text": [
      "Invalid input.must be between 0 and 1, chump don't play wit me!\n"
     ]
    },
    {
     "name": "stdin",
     "output_type": "stream",
     "text": [
      "Enter P(Late):  1\n",
      "Enter P(Traffic):  .4444444\n"
     ]
    },
    {
     "name": "stdout",
     "output_type": "stream",
     "text": [
      "\n",
      " P(Late | Traffic) = 0.5175\n"
     ]
    }
   ],
   "source": [
    "\"\"\" friend is late 30% of the time (P(Late) = 0.3). If they are late, they\n",
    "are stuck in traffic 80% of the time (P(Traffic | Late) = 0.8). On any\n",
    "given day, the chance of traffic is 40% (P(Traffic) = 0.4). If given traffic how much is he late?\"\"\"\n",
    "\n",
    "def get_probability(prompt):\n",
    "    while True:\n",
    "        try:\n",
    "            value = float(input(prompt))\n",
    "            if 0 <= value <= 1:\n",
    "                return value\n",
    "            else:\n",
    "                print(\"Invalid input.must be between 0 and 1, chump don't play wit me!\")\n",
    "        except ValueError:\n",
    "            print(\"Invalid input.enter a number! you feel mi!\")\n",
    "\n",
    "# Get validated probabilities\n",
    "p_traffic_given_late = get_probability(\"Enter P(Traffic | Late): \")\n",
    "p_late = get_probability(\"Enter P(Late): \")\n",
    "p_traffic = get_probability(\"Enter P(Traffic): \")\n",
    "\n",
    "# Avoid division by zero\n",
    "if p_traffic == 0:\n",
    "    print(\"bro please! Error: P(Traffic) cannot be zero.\")\n",
    "else:\n",
    "    p_late_given_traffic = p_traffic_given_late * (p_late / p_traffic)\n",
    "    print(f\"\\n P(Late | Traffic) = {p_late_given_traffic:.4f}\")\n"
   ]
  },
  {
   "cell_type": "code",
   "execution_count": 5,
   "id": "683f3221-0954-4572-bc37-056a55210e99",
   "metadata": {},
   "outputs": [
    {
     "name": "stdout",
     "output_type": "stream",
     "text": [
      "[(0.8039440464841943+0.7347160443110059j), (1.0113220640732674+1.0493585221776902j), (0.2794415550094579+9.101042153150647j), (0.8912388335313262+6.899235514977829j), (67.20419742842084+46.56731819086146j), (13.587076519176584+64.43334551069795j), (387.07818737009444+13.035447844806852j), (1071.1395382013616+443.21524571986475j), (533.830057046658+4048.883100528097j), (2918.6194967431097+7757.6325688209845j), (6904.514401772837+28892.448371486404j), (49930.769909202776+14789.24461448884j), (5295.032824465067+173692.99806255614j), (500909.11359164445+229040.94468870657j), (1174081.8890844055+393648.7426350828j), (1803797.9447202864+694357.159908382j), (257261.44519046607+8931742.528241124j), (10832281.477930246+4795968.710489545j), (15324330.758506877+48973631.57151416j), (76221846.7316806+119544715.8700515j)]\n",
      "Mean=(5309081.706116989+9189643.588497793j)\n",
      "Variance=1035351554888949.2\n",
      "StdDev=32176879.197475776\n",
      "Entropy=0.39439769144744274\n",
      "Mode Magnitude=1.089097652024552\n"
     ]
    }
   ],
   "source": [
    "import numpy as np\n",
    "from scipy.stats import mode, entropy\n",
    "\n",
    "def generate_complex_data(n):\n",
    "    return list(map(lambda x: complex(np.sinh(x)*np.random.rand(), np.cosh(x)*np.random.rand()), range(1, n+1)))\n",
    "\n",
    "def validate_complex_list(data):\n",
    "    if not isinstance(data, list):\n",
    "        raise TypeError(\"Data must be a list\")\n",
    "    if not all(isinstance(z, complex) for z in data):\n",
    "        raise ValueError(\"All elements must be complex numbers\")\n",
    "    if len(data) == 0:\n",
    "        raise ValueError(\"List cannot be empty\")\n",
    "\n",
    "def compute_entropy(data):\n",
    "    magnitudes = list(map(abs, data))\n",
    "    counts, _ = np.histogram(magnitudes, bins=10)\n",
    "    total = counts.sum()\n",
    "    if total == 0:\n",
    "        return 0.0\n",
    "    pk = counts / total\n",
    "    return float(entropy(pk))\n",
    "\n",
    "def compute_mode(data):\n",
    "    magnitudes = list(map(abs, data))\n",
    "    m = mode(magnitudes, keepdims=True)\n",
    "    return float(m.mode[0]) if m.count[0] > 0 else None\n",
    "\n",
    "try:\n",
    "    data = generate_complex_data(20)\n",
    "    validate_complex_list(data)\n",
    "    mean = np.mean(data)\n",
    "    var = np.var(data)\n",
    "    std = np.std(data)\n",
    "    ent = compute_entropy(data)\n",
    "    mod = compute_mode(data)\n",
    "    print(f\" our variables, jesus! {data}\")\n",
    "    print(f\"Mean={mean}\")\n",
    "    print(f\"Variance={var}\")\n",
    "    print(f\"StdDev={std}\")\n",
    "    print(f\"Entropy={ent}\")\n",
    "    print(f\"Mode Magnitude={mod}\")\n",
    "except Exception as e:\n",
    "    print(type(e).__name__, e)\n"
   ]
  },
  {
   "cell_type": "code",
   "execution_count": null,
   "id": "058f67af-1b6e-490d-9a92-336d8c511ff7",
   "metadata": {},
   "outputs": [],
   "source": []
  }
 ],
 "metadata": {
  "kernelspec": {
   "display_name": "Python 3 (ipykernel)",
   "language": "python",
   "name": "python3"
  },
  "language_info": {
   "codemirror_mode": {
    "name": "ipython",
    "version": 3
   },
   "file_extension": ".py",
   "mimetype": "text/x-python",
   "name": "python",
   "nbconvert_exporter": "python",
   "pygments_lexer": "ipython3",
   "version": "3.13.3"
  }
 },
 "nbformat": 4,
 "nbformat_minor": 5
}
