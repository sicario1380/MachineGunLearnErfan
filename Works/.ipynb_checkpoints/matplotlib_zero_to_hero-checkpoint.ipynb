{
 "cells": [
  {
   "cell_type": "markdown",
   "id": "b090753c",
   "metadata": {},
   "source": [
    "\n",
    "# Matplotlib: Zero to Hero 🎯\n",
    "\n",
    "A self-contained, hands-on notebook to learn **Matplotlib** from scratch.\n",
    "\n",
    "**Rules for this course notebook:**\n",
    "- We use **Matplotlib** only (no seaborn).\n",
    "- Each chart gets its **own figure** (no subplots).\n",
    "- We **do not set explicit colors**; let Matplotlib choose defaults.\n",
    "- Every section includes small, runnable examples.\n"
   ]
  },
  {
   "cell_type": "markdown",
   "id": "a6b4fc32",
   "metadata": {},
   "source": [
    "## 0) Setup"
   ]
  },
  {
   "cell_type": "code",
   "execution_count": null,
   "id": "848be112",
   "metadata": {},
   "outputs": [],
   "source": [
    "\n",
    "# Standard imports\n",
    "import numpy as np\n",
    "import pandas as pd\n",
    "import matplotlib.pyplot as plt\n",
    "\n",
    "# For reproducibility\n",
    "rng = np.random.default_rng(42)\n",
    "\n",
    "# Display inline in notebooks (Jupyter magic works even when as a string; if not, ignore)\n",
    "# %matplotlib inline\n"
   ]
  },
  {
   "cell_type": "markdown",
   "id": "9320f593",
   "metadata": {},
   "source": [
    "\n",
    "## 1) Your First Plot\n",
    "\n",
    "**Goal:** Create a simple line plot.\n",
    "\n",
    "**Concepts introduced:**\n",
    "- `plt.figure()` creates a new figure (canvas).\n",
    "- `plt.plot(x, y)` draws a line.\n",
    "- `plt.title`, `plt.xlabel`, `plt.ylabel` add metadata.\n",
    "- `plt.show()` renders the figure.\n"
   ]
  },
  {
   "cell_type": "code",
   "execution_count": null,
   "id": "6c70f5da",
   "metadata": {},
   "outputs": [],
   "source": [
    "\n",
    "x = np.linspace(0, 10, 50)\n",
    "y = np.sin(x)\n",
    "\n",
    "plt.figure()\n",
    "plt.plot(x, y)\n",
    "plt.title(\"Sine Wave\")\n",
    "plt.xlabel(\"x\")\n",
    "plt.ylabel(\"sin(x)\")\n",
    "plt.show()\n"
   ]
  },
  {
   "cell_type": "markdown",
   "id": "1a063894",
   "metadata": {},
   "source": [
    "\n",
    "## 2) Scatter Plot\n",
    "\n",
    "**When to use:** Show relationship between two numeric variables.\n",
    "\n",
    "**Key function:** `plt.scatter(x, y)`\n"
   ]
  },
  {
   "cell_type": "code",
   "execution_count": null,
   "id": "50ff36a7",
   "metadata": {},
   "outputs": [],
   "source": [
    "\n",
    "x = rng.normal(loc=50, scale=10, size=200)\n",
    "y = 2.5 * x + rng.normal(scale=15, size=200)\n",
    "\n",
    "plt.figure()\n",
    "plt.scatter(x, y)\n",
    "plt.title(\"Height vs. Weight (synthetic)\")\n",
    "plt.xlabel(\"Height\")\n",
    "plt.ylabel(\"Weight\")\n",
    "plt.show()\n"
   ]
  },
  {
   "cell_type": "markdown",
   "id": "06fc476e",
   "metadata": {},
   "source": [
    "\n",
    "## 3) Bar Chart\n",
    "\n",
    "**When to use:** Compare categories or discrete groups.\n",
    "\n",
    "**Key function:** `plt.bar(categories, values)`\n"
   ]
  },
  {
   "cell_type": "code",
   "execution_count": null,
   "id": "cd59d848",
   "metadata": {},
   "outputs": [],
   "source": [
    "\n",
    "categories = [\"A\", \"B\", \"C\", \"D\", \"E\"]\n",
    "values = rng.integers(10, 100, size=len(categories))\n",
    "\n",
    "plt.figure()\n",
    "plt.bar(categories, values)\n",
    "plt.title(\"Category Counts\")\n",
    "plt.xlabel(\"Category\")\n",
    "plt.ylabel(\"Count\")\n",
    "plt.show()\n"
   ]
  },
  {
   "cell_type": "markdown",
   "id": "e2a0e1f3",
   "metadata": {},
   "source": [
    "\n",
    "## 4) Horizontal Bar Chart\n",
    "\n",
    "**Why:** Better for long category labels or when ordering by value.\n",
    "\n",
    "**Key function:** `plt.barh(categories, values)`\n"
   ]
  },
  {
   "cell_type": "code",
   "execution_count": null,
   "id": "cf67fdc1",
   "metadata": {},
   "outputs": [],
   "source": [
    "\n",
    "labels = [\"Algorithm\", \"Data Cleaning\", \"Visualization\", \"Modeling\", \"Deployment\"]\n",
    "hours = rng.integers(5, 40, size=len(labels))\n",
    "\n",
    "plt.figure()\n",
    "plt.barh(labels, hours)\n",
    "plt.title(\"Project Effort by Task\")\n",
    "plt.xlabel(\"Hours\")\n",
    "plt.ylabel(\"Task\")\n",
    "plt.show()\n"
   ]
  },
  {
   "cell_type": "markdown",
   "id": "f597c81d",
   "metadata": {},
   "source": [
    "\n",
    "## 5) Histogram\n",
    "\n",
    "**When to use:** Visualize the **distribution** of a numeric variable.\n",
    "\n",
    "**Key function:** `plt.hist(data, bins=...)`\n"
   ]
  },
  {
   "cell_type": "code",
   "execution_count": null,
   "id": "141b4724",
   "metadata": {},
   "outputs": [],
   "source": [
    "\n",
    "data = rng.normal(loc=70, scale=10, size=1000)\n",
    "\n",
    "plt.figure()\n",
    "plt.hist(data, bins=30)\n",
    "plt.title(\"Histogram of Test Scores\")\n",
    "plt.xlabel(\"Score\")\n",
    "plt.ylabel(\"Frequency\")\n",
    "plt.show()\n"
   ]
  },
  {
   "cell_type": "markdown",
   "id": "c6470ddb",
   "metadata": {},
   "source": [
    "\n",
    "## 6) Empirical CDF (Alternative to Density)\n",
    "\n",
    "We won't use seaborn for KDE. A simple alternative is the **empirical CDF**.\n"
   ]
  },
  {
   "cell_type": "code",
   "execution_count": null,
   "id": "9c496f05",
   "metadata": {},
   "outputs": [],
   "source": [
    "\n",
    "data = np.sort(rng.normal(size=500))\n",
    "ecdf = np.arange(1, len(data)+1) / len(data)\n",
    "\n",
    "plt.figure()\n",
    "plt.plot(data, ecdf)\n",
    "plt.title(\"Empirical CDF\")\n",
    "plt.xlabel(\"Value\")\n",
    "plt.ylabel(\"ECDF\")\n",
    "plt.show()\n"
   ]
  },
  {
   "cell_type": "markdown",
   "id": "8e55decf",
   "metadata": {},
   "source": [
    "\n",
    "## 7) Box Plot\n",
    "\n",
    "**When to use:** Summarize distribution (median, quartiles, outliers).\n",
    "\n",
    "**Key function:** `plt.boxplot(data)`\n"
   ]
  },
  {
   "cell_type": "code",
   "execution_count": null,
   "id": "8e55c272",
   "metadata": {},
   "outputs": [],
   "source": [
    "\n",
    "samples = [rng.normal(loc=m, scale=1.2, size=200) for m in [0, 1, 2, 1.5]]\n",
    "plt.figure()\n",
    "plt.boxplot(samples, labels=[\"Group A\", \"Group B\", \"Group C\", \"Group D\"])\n",
    "plt.title(\"Box Plots by Group\")\n",
    "plt.xlabel(\"Group\")\n",
    "plt.ylabel(\"Value\")\n",
    "plt.show()\n"
   ]
  },
  {
   "cell_type": "markdown",
   "id": "39b668b5",
   "metadata": {},
   "source": [
    "\n",
    "## 8) Violin Plot (Optional)\n",
    "\n",
    "**When to use:** Visualize full distribution shape.\n",
    "\n",
    "**Key function:** `plt.violinplot(dataset)`\n"
   ]
  },
  {
   "cell_type": "code",
   "execution_count": null,
   "id": "045d8434",
   "metadata": {},
   "outputs": [],
   "source": [
    "\n",
    "dataset = [rng.normal(loc=mu, scale=0.7, size=300) for mu in [0.0, 1.0, 2.0]]\n",
    "plt.figure()\n",
    "plt.violinplot(dataset, showmeans=True, showextrema=True, showmedians=True)\n",
    "plt.title(\"Violin Plot Example\")\n",
    "plt.xlabel(\"Group Index\")\n",
    "plt.ylabel(\"Value\")\n",
    "plt.show()\n"
   ]
  },
  {
   "cell_type": "markdown",
   "id": "674b8d96",
   "metadata": {},
   "source": [
    "\n",
    "## 9) Multiple Lines (One Chart per Figure)\n",
    "\n",
    "We avoid subplots—so create separate figures instead, one per chart.\n"
   ]
  },
  {
   "cell_type": "code",
   "execution_count": null,
   "id": "2c48834a",
   "metadata": {},
   "outputs": [],
   "source": [
    "\n",
    "x = np.linspace(0, 2*np.pi, 200)\n",
    "\n",
    "plt.figure()\n",
    "plt.plot(x, np.sin(x))\n",
    "plt.title(\"sin(x)\")\n",
    "plt.xlabel(\"x\")\n",
    "plt.ylabel(\"y\")\n",
    "plt.show()\n",
    "\n",
    "plt.figure()\n",
    "plt.plot(x, np.cos(x))\n",
    "plt.title(\"cos(x)\")\n",
    "plt.xlabel(\"x\")\n",
    "plt.ylabel(\"y\")\n",
    "plt.show()\n"
   ]
  },
  {
   "cell_type": "markdown",
   "id": "4204cd24",
   "metadata": {},
   "source": [
    "\n",
    "## 10) Legends, Labels, and Titles\n",
    "\n",
    "**Key functions:**\n",
    "- `plt.title(\"...\")`\n",
    "- `plt.xlabel(\"...\")`, `plt.ylabel(\"...\")`\n",
    "- `plt.legend()` after adding labels via plotting calls.\n"
   ]
  },
  {
   "cell_type": "code",
   "execution_count": null,
   "id": "2c28ac5f",
   "metadata": {},
   "outputs": [],
   "source": [
    "\n",
    "x = np.linspace(0, 10, 100)\n",
    "y1 = np.log1p(x)\n",
    "y2 = np.sqrt(x)\n",
    "\n",
    "plt.figure()\n",
    "plt.plot(x, y1, label=\"log(1+x)\")\n",
    "plt.plot(x, y2, label=\"sqrt(x)\")\n",
    "plt.title(\"Two Functions\")\n",
    "plt.xlabel(\"x\")\n",
    "plt.ylabel(\"y\")\n",
    "plt.legend()\n",
    "plt.show()\n"
   ]
  },
  {
   "cell_type": "markdown",
   "id": "ca68ee0d",
   "metadata": {},
   "source": [
    "\n",
    "## 11) Ticks and Tick Labels\n",
    "\n",
    "**Why:** Improve readability and focus.\n",
    "\n",
    "**Key functions:** `plt.xticks(...)`, `plt.yticks(...)`\n"
   ]
  },
  {
   "cell_type": "code",
   "execution_count": null,
   "id": "3a6076d3",
   "metadata": {},
   "outputs": [],
   "source": [
    "\n",
    "x = np.linspace(0, 2*np.pi, 100)\n",
    "y = np.sin(x)\n",
    "\n",
    "plt.figure()\n",
    "plt.plot(x, y)\n",
    "plt.title(\"Custom Ticks\")\n",
    "plt.xlabel(\"x (radians)\")\n",
    "plt.ylabel(\"sin(x)\")\n",
    "plt.xticks([0, np.pi/2, np.pi, 3*np.pi/2, 2*np.pi],\n",
    "           [\"0\", \"π/2\", \"π\", \"3π/2\", \"2π\"])\n",
    "plt.yticks([-1, 0, 1])\n",
    "plt.show()\n"
   ]
  },
  {
   "cell_type": "markdown",
   "id": "6c629c4e",
   "metadata": {},
   "source": [
    "\n",
    "## 12) Grid Lines\n",
    "\n",
    "**Key function:** `plt.grid(True)`\n"
   ]
  },
  {
   "cell_type": "code",
   "execution_count": null,
   "id": "ee23d674",
   "metadata": {},
   "outputs": [],
   "source": [
    "\n",
    "x = np.linspace(0, 10, 100)\n",
    "y = x**2\n",
    "\n",
    "plt.figure()\n",
    "plt.plot(x, y)\n",
    "plt.title(\"With Grid\")\n",
    "plt.xlabel(\"x\")\n",
    "plt.ylabel(\"x^2\")\n",
    "plt.grid(True)\n",
    "plt.show()\n"
   ]
  },
  {
   "cell_type": "markdown",
   "id": "29f09023",
   "metadata": {},
   "source": [
    "\n",
    "## 13) Annotations and Text\n",
    "\n",
    "**Key functions:** `plt.text(x, y, \"msg\")`, `plt.annotate(\"...\", xy=(...), xytext=(...))`\n"
   ]
  },
  {
   "cell_type": "code",
   "execution_count": null,
   "id": "8dea67fc",
   "metadata": {},
   "outputs": [],
   "source": [
    "\n",
    "x = np.linspace(0, 10, 100)\n",
    "y = np.sin(x)\n",
    "\n",
    "plt.figure()\n",
    "plt.plot(x, y)\n",
    "plt.title(\"Annotations\")\n",
    "plt.xlabel(\"x\")\n",
    "plt.ylabel(\"sin(x)\")\n",
    "\n",
    "# Add text and arrow\n",
    "plt.text(2, 0.9, \"Peak ahead\")\n",
    "plt.annotate(\"Local max\", xy=(np.pi/2, 1.0),\n",
    "             xytext=(2.5, 0.5),\n",
    "             arrowprops=dict(arrowstyle=\"->\"))\n",
    "plt.show()\n"
   ]
  },
  {
   "cell_type": "markdown",
   "id": "904633c1",
   "metadata": {},
   "source": [
    "\n",
    "## 14) Error Bars\n",
    "\n",
    "**When to use:** Show measurement uncertainty.\n",
    "\n",
    "**Key function:** `plt.errorbar(x, y, yerr=...)`\n"
   ]
  },
  {
   "cell_type": "code",
   "execution_count": null,
   "id": "e90109ac",
   "metadata": {},
   "outputs": [],
   "source": [
    "\n",
    "x = np.arange(1, 11)\n",
    "y = 2 * x + rng.normal(scale=1.0, size=len(x))\n",
    "y_err = rng.uniform(0.2, 1.0, size=len(x))\n",
    "\n",
    "plt.figure()\n",
    "plt.errorbar(x, y, yerr=y_err, fmt=\"o-\")\n",
    "plt.title(\"Error Bars\")\n",
    "plt.xlabel(\"Measurement #\")\n",
    "plt.ylabel(\"Value\")\n",
    "plt.show()\n"
   ]
  },
  {
   "cell_type": "markdown",
   "id": "137cf640",
   "metadata": {},
   "source": [
    "\n",
    "## 15) Images and Heatmaps\n",
    "\n",
    "**Key function:** `plt.imshow(array)` with `plt.colorbar()` for a legend.\n"
   ]
  },
  {
   "cell_type": "code",
   "execution_count": null,
   "id": "d4964218",
   "metadata": {},
   "outputs": [],
   "source": [
    "\n",
    "# Create a synthetic 2D field\n",
    "grid = rng.normal(size=(30, 30))\n",
    "\n",
    "plt.figure()\n",
    "im = plt.imshow(grid, origin=\"lower\")\n",
    "plt.title(\"Heatmap via imshow\")\n",
    "plt.xlabel(\"X index\")\n",
    "plt.ylabel(\"Y index\")\n",
    "plt.colorbar(im, label=\"Intensity\")\n",
    "plt.show()\n"
   ]
  },
  {
   "cell_type": "markdown",
   "id": "b64243e6",
   "metadata": {},
   "source": [
    "\n",
    "## 16) Scatter with a Colorbar (Colormap)\n",
    "\n",
    "**Why:** Map a third variable to color and add a colorbar legend.\n"
   ]
  },
  {
   "cell_type": "code",
   "execution_count": null,
   "id": "f5ffe645",
   "metadata": {},
   "outputs": [],
   "source": [
    "\n",
    "x = rng.uniform(-3, 3, size=300)\n",
    "y = rng.uniform(-3, 3, size=300)\n",
    "z = x**2 + y**2\n",
    "\n",
    "plt.figure()\n",
    "sc = plt.scatter(x, y, c=z)\n",
    "plt.title(\"Scatter with Colorbar\")\n",
    "plt.xlabel(\"x\")\n",
    "plt.ylabel(\"y\")\n",
    "plt.colorbar(sc, label=\"x^2 + y^2\")\n",
    "plt.show()\n"
   ]
  },
  {
   "cell_type": "markdown",
   "id": "8ed926b0",
   "metadata": {},
   "source": [
    "\n",
    "## 17) Time Series\n",
    "\n",
    "**Tip:** Use pandas for date handling; Matplotlib plots the result.\n"
   ]
  },
  {
   "cell_type": "code",
   "execution_count": null,
   "id": "7a8a63a3",
   "metadata": {},
   "outputs": [],
   "source": [
    "\n",
    "dates = pd.date_range(\"2025-01-01\", periods=60, freq=\"D\")\n",
    "values = np.cumsum(rng.normal(scale=1.0, size=len(dates))) + 10\n",
    "\n",
    "ts = pd.Series(values, index=dates)\n",
    "\n",
    "plt.figure()\n",
    "plt.plot(ts.index, ts.values)\n",
    "plt.title(\"Time Series Example\")\n",
    "plt.xlabel(\"Date\")\n",
    "plt.ylabel(\"Value\")\n",
    "plt.xticks(rotation=45)\n",
    "plt.tight_layout()\n",
    "plt.show()\n"
   ]
  },
  {
   "cell_type": "markdown",
   "id": "d046977c",
   "metadata": {},
   "source": [
    "\n",
    "## 18) Stylesheets\n",
    "\n",
    "Matplotlib includes built-in styles. We won't force a specific color, but you can try different looks:\n",
    "\n",
    "**Usage:** `plt.style.use(\"ggplot\")` or `plt.style.use(\"default\")`\n"
   ]
  },
  {
   "cell_type": "code",
   "execution_count": null,
   "id": "278e0ca5",
   "metadata": {},
   "outputs": [],
   "source": [
    "\n",
    "# Try a style, then reset to default\n",
    "plt.style.use(\"ggplot\")\n",
    "\n",
    "x = np.linspace(0, 10, 200)\n",
    "y = np.sinc(x - 5)\n",
    "\n",
    "plt.figure()\n",
    "plt.plot(x, y)\n",
    "plt.title(\"Stylesheet Demo (ggplot)\")\n",
    "plt.xlabel(\"x\")\n",
    "plt.ylabel(\"sinc(x-5)\")\n",
    "plt.show()\n",
    "\n",
    "# Reset\n",
    "plt.style.use(\"default\")\n"
   ]
  },
  {
   "cell_type": "markdown",
   "id": "e29a99b9",
   "metadata": {},
   "source": [
    "\n",
    "## 19) Saving Figures\n",
    "\n",
    "**Key function:** `plt.savefig(\"filename.png\", dpi=300, bbox_inches=\"tight\")`\n",
    "\n",
    "> Call `savefig` **before** `plt.show()` in scripts. In notebooks, either order can work, but saving before showing is a good habit.\n"
   ]
  },
  {
   "cell_type": "code",
   "execution_count": null,
   "id": "572159da",
   "metadata": {},
   "outputs": [],
   "source": [
    "\n",
    "x = np.linspace(0, 4*np.pi, 400)\n",
    "y = np.sin(x) / (1 + 0.1*x)\n",
    "\n",
    "plt.figure()\n",
    "plt.plot(x, y)\n",
    "plt.title(\"Save Me\")\n",
    "plt.xlabel(\"x\")\n",
    "plt.ylabel(\"sin(x)/(1+0.1x)\")\n",
    "plt.savefig(\"/mnt/data/mpl_saved_example.png\", dpi=300, bbox_inches=\"tight\")\n",
    "plt.show()\n",
    "\n",
    "print(\"Saved figure to /mnt/data/mpl_saved_example.png\")\n"
   ]
  },
  {
   "cell_type": "markdown",
   "id": "4cf1ec02",
   "metadata": {},
   "source": [
    "\n",
    "## 20) Common Pitfalls & Best Practices\n",
    "\n",
    "- Always create a **new figure** for each plot with `plt.figure()`.\n",
    "- Label axes and add a title—your future self will thank you.\n",
    "- Use `plt.tight_layout()` when labels overlap.\n",
    "- Avoid setting colors unless you must; defaults are accessible and consistent.\n",
    "- For reproducibility in random plots, set a random seed.\n",
    "- Prefer vectorized operations (NumPy) over Python loops for speed.\n"
   ]
  },
  {
   "cell_type": "markdown",
   "id": "d4ce358b",
   "metadata": {},
   "source": [
    "\n",
    "## 21) Mini Project: From CSV to Insight\n",
    "\n",
    "**Goal:** Load a CSV, clean it, visualize key relationships, and save at least one figure.\n",
    "\n",
    "Steps:\n",
    "1. Load a CSV (you can replace with your own file).\n",
    "2. Inspect with `head`, `describe`, `info`, `isna`.\n",
    "3. Pick 1–2 interesting relationships to visualize (scatter, bar, hist).\n",
    "4. Add titles, labels, and legends where appropriate.\n",
    "5. Save at least one plot to disk.\n"
   ]
  },
  {
   "cell_type": "code",
   "execution_count": null,
   "id": "b93c3687",
   "metadata": {},
   "outputs": [],
   "source": [
    "\n",
    "from io import StringIO\n",
    "\n",
    "csv = StringIO(\"\"\"\n",
    "city,month,temp,visitors\n",
    "Alpha,Jan,5,120\n",
    "Alpha,Feb,8,160\n",
    "Alpha,Mar,12,220\n",
    "Beta,Jan,-2,80\n",
    "Beta,Feb,1,110\n",
    "Beta,Mar,6,150\n",
    "Gamma,Jan,10,200\n",
    "Gamma,Feb,12,230\n",
    "Gamma,Mar,15,300\n",
    "\"\"\")\n",
    "df = pd.read_csv(csv)\n",
    "\n",
    "# Inspect\n",
    "print(df.head())\n",
    "print(df.describe(numeric_only=True))\n",
    "print(df.isna().sum())\n",
    "\n",
    "# Plot: temperature vs visitors\n",
    "plt.figure()\n",
    "plt.scatter(df[\"temp\"], df[\"visitors\"])\n",
    "plt.title(\"Visitors vs Temperature\")\n",
    "plt.xlabel(\"Temperature (°C)\")\n",
    "plt.ylabel(\"Visitors\")\n",
    "plt.show()\n",
    "\n",
    "# Save a histogram of visitors\n",
    "plt.figure()\n",
    "plt.hist(df[\"visitors\"], bins=5)\n",
    "plt.title(\"Distribution of Visitors\")\n",
    "plt.xlabel(\"Visitors\")\n",
    "plt.ylabel(\"Frequency\")\n",
    "plt.savefig(\"/mnt/data/visitors_hist.png\", dpi=300, bbox_inches=\"tight\")\n",
    "plt.show()\n",
    "\n",
    "print(\"Saved histogram to /mnt/data/visitors_hist.png\")\n"
   ]
  },
  {
   "cell_type": "markdown",
   "id": "f84f7a78",
   "metadata": {},
   "source": [
    "\n",
    "## 22) Challenge Exercises\n",
    "\n",
    "1. Create a scatter plot where marker size depends on a third variable (e.g., income) and add a colorbar for a fourth variable (e.g., population density).\n",
    "2. Build a line chart from a noisy signal and add annotations for peaks.\n",
    "3. Load a real CSV from a project/course and produce at least three distinct plots (scatter, bar/hist, time series). Save all figures.\n",
    "4. Recreate one of your favorite plots using only Matplotlib—no seaborn.\n"
   ]
  }
 ],
 "metadata": {},
 "nbformat": 4,
 "nbformat_minor": 5
}
