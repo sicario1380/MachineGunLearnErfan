{
 "cells": [
  {
   "cell_type": "markdown",
   "id": "f72a623b-15df-4356-b07c-001f3c505e18",
   "metadata": {},
   "source": [
    "# Linear Algebra"
   ]
  },
  {
   "cell_type": "code",
   "execution_count": 2,
   "id": "3afa5a53-83ce-44ff-a525-018b9c8d5496",
   "metadata": {},
   "outputs": [
    {
     "name": "stdout",
     "output_type": "stream",
     "text": [
      "0.01\n"
     ]
    }
   ],
   "source": [
    "learning_rate = 0.01\n",
    "temperature = 25.5\n",
    "print(learning_rate)"
   ]
  },
  {
   "cell_type": "code",
   "execution_count": 3,
   "id": "682d732c-5c3a-4c03-b360-87d45bfefd2b",
   "metadata": {},
   "outputs": [
    {
     "name": "stdout",
     "output_type": "stream",
     "text": [
      "[10, 20, 30]\n"
     ]
    }
   ],
   "source": [
    "vector = [10, 20, 30]\n",
    "print(vector)"
   ]
  },
  {
   "cell_type": "code",
   "execution_count": 5,
   "id": "089ed250-3189-4ded-abec-f91e68dc87d8",
   "metadata": {},
   "outputs": [
    {
     "name": "stdout",
     "output_type": "stream",
     "text": [
      "[20, 40, 60]\n"
     ]
    }
   ],
   "source": [
    "x = 2\n",
    "scaled_vector = [x * i for i in vector]\n",
    "print(scaled_vector)"
   ]
  },
  {
   "cell_type": "code",
   "execution_count": 6,
   "id": "758fc130-616e-4b6d-ba18-04d9011b1ac2",
   "metadata": {},
   "outputs": [],
   "source": [
    "import numpy as np\n",
    "scores = np.array([95, 88, 72])"
   ]
  },
  {
   "cell_type": "code",
   "execution_count": 7,
   "id": "359969b0-d8ea-46a9-8856-ca1926d4c8ac",
   "metadata": {},
   "outputs": [
    {
     "name": "stdout",
     "output_type": "stream",
     "text": [
      "[95 88 72]\n"
     ]
    }
   ],
   "source": [
    "print(scores)"
   ]
  },
  {
   "cell_type": "code",
   "execution_count": 15,
   "id": "c41e8909-57ae-453d-bdf3-c2ee5620e508",
   "metadata": {},
   "outputs": [
    {
     "name": "stdout",
     "output_type": "stream",
     "text": [
      "[ 950 1760 2160]\n"
     ]
    }
   ],
   "source": [
    "print(vector*scores)"
   ]
  },
  {
   "cell_type": "code",
   "execution_count": 18,
   "id": "0c2fcdd4-c90d-4acb-adf8-354c15133520",
   "metadata": {},
   "outputs": [
    {
     "name": "stdout",
     "output_type": "stream",
     "text": [
      "4870\n"
     ]
    }
   ],
   "source": [
    "print(np.dot(vector, scores))"
   ]
  },
  {
   "cell_type": "code",
   "execution_count": 19,
   "id": "f7487b11-93c1-4e68-8cec-8f01c2c2ec41",
   "metadata": {},
   "outputs": [
    {
     "name": "stdout",
     "output_type": "stream",
     "text": [
      "4870\n"
     ]
    }
   ],
   "source": [
    "print(vector @ scores)"
   ]
  },
  {
   "cell_type": "code",
   "execution_count": 20,
   "id": "7a1861b8-6834-4063-83a8-954c2a1832d6",
   "metadata": {},
   "outputs": [
    {
     "data": {
      "text/plain": [
       "37.416573867739416"
      ]
     },
     "execution_count": 20,
     "metadata": {},
     "output_type": "execute_result"
    }
   ],
   "source": [
    "np.linalg.norm(vector)"
   ]
  },
  {
   "cell_type": "code",
   "execution_count": 25,
   "id": "5e52bcb6-6468-42d3-8f04-2b5e0de4e15e",
   "metadata": {},
   "outputs": [
    {
     "data": {
      "text/plain": [
       "60.0"
      ]
     },
     "execution_count": 25,
     "metadata": {},
     "output_type": "execute_result"
    }
   ],
   "source": [
    "np.linalg.norm(vector, ord=1)"
   ]
  },
  {
   "cell_type": "code",
   "execution_count": 26,
   "id": "57a12601-e9bd-4813-8fb5-6e9982d117f9",
   "metadata": {},
   "outputs": [],
   "source": [
    "r_matrix = np.array([[0,-1],[1,0]])"
   ]
  },
  {
   "cell_type": "code",
   "execution_count": 28,
   "id": "331acea8-ce13-4038-a947-8e10250eeb17",
   "metadata": {},
   "outputs": [
    {
     "name": "stdout",
     "output_type": "stream",
     "text": [
      "[-1  3]\n"
     ]
    }
   ],
   "source": [
    "point = np.array([3,1])\n",
    "transformed_point= r_matrix @ point\n",
    "print(transformed_point)"
   ]
  },
  {
   "cell_type": "code",
   "execution_count": 31,
   "id": "ab8f2cc6-7957-4352-9ea2-084cb101a374",
   "metadata": {},
   "outputs": [
    {
     "name": "stdout",
     "output_type": "stream",
     "text": [
      "Eigenvalues: [2. 1.]\n",
      "Eigenvectors [[1. 0.]\n",
      " [0. 1.]]\n"
     ]
    }
   ],
   "source": [
    "A = np.array([[2,0],[0,1]])\n",
    "e_val, e_vec = np.linalg.eig(A)\n",
    "print(\"Eigenvalues:\", e_val)\n",
    "print(\"Eigenvectors\", e_vec)"
   ]
  },
  {
   "cell_type": "code",
   "execution_count": 35,
   "id": "5002bb98-872d-4457-9b1c-6424c87803ba",
   "metadata": {},
   "outputs": [
    {
     "name": "stdout",
     "output_type": "stream",
     "text": [
      "Eigenvalues: [10.33127472  2.35156186  1.31716342]\n",
      "Eigenvectors [[-0.46694639 -0.75193817 -0.17562641]\n",
      " [-0.73034067 -0.2773299  -0.73937996]\n",
      " [-0.49856151  0.59806112  0.64997896]]\n"
     ]
    }
   ],
   "source": [
    "A_1 = np.array([[4,2,3],[3,5,5],[1,3,5]])\n",
    "e_val_1, e_vec_1 = np.linalg.eig(A_1)\n",
    "print(\"Eigenvalues:\", e_val_1)\n",
    "print(\"Eigenvectors\", e_vec_1)"
   ]
  }
 ],
 "metadata": {
  "kernelspec": {
   "display_name": "Python 3 (ipykernel)",
   "language": "python",
   "name": "python3"
  },
  "language_info": {
   "codemirror_mode": {
    "name": "ipython",
    "version": 3
   },
   "file_extension": ".py",
   "mimetype": "text/x-python",
   "name": "python",
   "nbconvert_exporter": "python",
   "pygments_lexer": "ipython3",
   "version": "3.11.5"
  }
 },
 "nbformat": 4,
 "nbformat_minor": 5
}
