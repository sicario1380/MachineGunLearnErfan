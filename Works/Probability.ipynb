{
 "cells": [
  {
   "cell_type": "code",
   "execution_count": 10,
   "id": "292b41a7-5c09-42ea-bc3f-367a57e84092",
   "metadata": {},
   "outputs": [
    {
     "name": "stdout",
     "output_type": "stream",
     "text": [
      "[1, 4, 27, 3125]\n"
     ]
    }
   ],
   "source": [
    "x = [1,2,3,5]\n",
    "y = lambda x: pow(x,x)\n",
    "print(list(map(y,x)))"
   ]
  },
  {
   "cell_type": "code",
   "execution_count": 13,
   "id": "504ed782-4af5-4282-a632-c12b7edc3ad1",
   "metadata": {},
   "outputs": [
    {
     "name": "stdin",
     "output_type": "stream",
     "text": [
      "Enter P(Traffic | Late):  .23\n",
      "Enter P(Late):  123\n"
     ]
    },
    {
     "name": "stdout",
     "output_type": "stream",
     "text": [
      "Invalid input.must be between 0 and 1, chump don't play wit me!\n"
     ]
    },
    {
     "name": "stdin",
     "output_type": "stream",
     "text": [
      "Enter P(Late):  3\n"
     ]
    },
    {
     "name": "stdout",
     "output_type": "stream",
     "text": [
      "Invalid input.must be between 0 and 1, chump don't play wit me!\n"
     ]
    },
    {
     "name": "stdin",
     "output_type": "stream",
     "text": [
      "Enter P(Late):  1\n",
      "Enter P(Traffic):  .4444444\n"
     ]
    },
    {
     "name": "stdout",
     "output_type": "stream",
     "text": [
      "\n",
      " P(Late | Traffic) = 0.5175\n"
     ]
    }
   ],
   "source": [
    "\"\"\" friend is late 30% of the time (P(Late) = 0.3). If they are late, they\n",
    "are stuck in traffic 80% of the time (P(Traffic | Late) = 0.8). On any\n",
    "given day, the chance of traffic is 40% (P(Traffic) = 0.4). If given traffic how much is he late?\"\"\"\n",
    "\n",
    "def get_probability(prompt):\n",
    "    while True:\n",
    "        try:\n",
    "            value = float(input(prompt))\n",
    "            if 0 <= value <= 1:\n",
    "                return value\n",
    "            else:\n",
    "                print(\"Invalid input.must be between 0 and 1, chump don't play wit me!\")\n",
    "        except ValueError:\n",
    "            print(\"Invalid input.enter a number! you feel mi!\")\n",
    "\n",
    "# Get validated probabilities\n",
    "p_traffic_given_late = get_probability(\"Enter P(Traffic | Late): \")\n",
    "p_late = get_probability(\"Enter P(Late): \")\n",
    "p_traffic = get_probability(\"Enter P(Traffic): \")\n",
    "\n",
    "# Avoid division by zero\n",
    "if p_traffic == 0:\n",
    "    print(\"bro please! Error: P(Traffic) cannot be zero.\")\n",
    "else:\n",
    "    p_late_given_traffic = p_traffic_given_late * (p_late / p_traffic)\n",
    "    print(f\"\\n P(Late | Traffic) = {p_late_given_traffic:.4f}\")\n"
   ]
  },
  {
   "cell_type": "code",
   "execution_count": 5,
   "id": "683f3221-0954-4572-bc37-056a55210e99",
   "metadata": {},
   "outputs": [
    {
     "name": "stdout",
     "output_type": "stream",
     "text": [
      " our variables, jesus! [(0.31749551218469396+0.6527379016461616j), (2.0510617326005733+0.3061668567676503j), (7.518226202311411+7.702161947276979j), (3.799051088544597+18.721978826893945j), (54.71865737794609+56.17937420075945j), (154.85544097098793+127.73567258482818j), (310.2406025631213+456.8421840176341j), (510.09482983115305+135.64679942146014j), (2110.12156656138+3321.8423328093863j), (7319.60140922326+6740.845273175695j), (6229.66542669725+21125.410184454024j), (81176.03506955518+54478.80757960779j), (147224.94808968788+44075.78222022063j), (138362.0671679242+394637.77014771913j), (839591.2579844143+535812.797525869j), (760237.5206969146+1187016.4734250733j), (2839887.0172593184+6042530.697694857j), (31191317.120310705+11479482.844999604j), (34203851.71141926+58334980.50492222j), (191491434.63199437+207232156.15576726j)]\n",
      "Mean=(13085489.264687996+14266858.185957432j)\n",
      "Variance=3892199281556601.5\n",
      "StdDev=62387492.98983412\n",
      "Entropy=0.5875009311062073\n",
      "Mode Magnitude=0.7258582289282497\n"
     ]
    }
   ],
   "source": [
    "import numpy as np\n",
    "from scipy.stats import mode, entropy\n",
    "\n",
    "def generate_complex_data(n):\n",
    "    return list(map(lambda x: complex(np.sinh(x)*np.random.rand(), np.cosh(x)*np.random.rand()), range(1, n+1)))\n",
    "\n",
    "def validate_complex_list(data):\n",
    "    if not isinstance(data, list):\n",
    "        raise TypeError(\"Data must be a list\")\n",
    "    if not all(isinstance(z, complex) for z in data):\n",
    "        raise ValueError(\"All elements must be complex numbers\")\n",
    "    if len(data) == 0:\n",
    "        raise ValueError(\"List cannot be empty\")\n",
    "\n",
    "def compute_entropy(data):\n",
    "    magnitudes = list(map(abs, data))\n",
    "    counts, _ = np.histogram(magnitudes, bins=10)\n",
    "    total = counts.sum()\n",
    "    if total == 0:\n",
    "        return 0.0\n",
    "    pk = counts / total\n",
    "    return float(entropy(pk))\n",
    "\n",
    "def compute_mode(data):\n",
    "    magnitudes = list(map(abs, data))\n",
    "    m = mode(magnitudes, keepdims=True)\n",
    "    return float(m.mode[0]) if m.count[0] > 0 else None\n",
    "\n",
    "try:\n",
    "    data = generate_complex_data(20)\n",
    "    validate_complex_list(data)\n",
    "    mean = np.mean(data)\n",
    "    var = np.var(data)\n",
    "    std = np.std(data)\n",
    "    ent = compute_entropy(data)\n",
    "    mod = compute_mode(data)\n",
    "    print(f\" our variables, jesus! {data}\")\n",
    "    print(f\"Mean={mean}\")\n",
    "    print(f\"Variance={var}\")\n",
    "    print(f\"StdDev={std}\")\n",
    "    print(f\"Entropy={ent}\")\n",
    "    print(f\"Mode Magnitude={mod}\")\n",
    "except Exception as e:\n",
    "    print(type(e).__name__, e)\n"
   ]
  },
  {
   "cell_type": "code",
   "execution_count": null,
   "id": "7656d0ea-fa58-40a8-8069-087a8db37daf",
   "metadata": {},
   "outputs": [],
   "source": []
  }
 ],
 "metadata": {
  "kernelspec": {
   "display_name": "Python 3 (ipykernel)",
   "language": "python",
   "name": "python3"
  },
  "language_info": {
   "codemirror_mode": {
    "name": "ipython",
    "version": 3
   },
   "file_extension": ".py",
   "mimetype": "text/x-python",
   "name": "python",
   "nbconvert_exporter": "python",
   "pygments_lexer": "ipython3",
   "version": "3.13.3"
  }
 },
 "nbformat": 4,
 "nbformat_minor": 5
}
