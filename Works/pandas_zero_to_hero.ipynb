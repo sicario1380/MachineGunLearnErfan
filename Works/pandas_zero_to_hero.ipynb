{
 "cells": [
  {
   "cell_type": "markdown",
   "id": "eadf4474",
   "metadata": {},
   "source": [
    "\n",
    "# pandas: Zero to Hero 🐼\n",
    "\n",
    "Welcome! This notebook teaches **pandas** from the ground up—fully self-paced.\n",
    "You'll learn Series and DataFrame fundamentals, indexing, reshaping, joins,\n",
    "groupby, time series, text handling, and performance tips—plus a mini-project.\n",
    "\n",
    "**You will:**\n",
    "- Understand **Series** and **DataFrame**, indices, and dtypes\n",
    "- Load & save data (`read_csv`, `to_csv`, etc.)\n",
    "- Select, filter, and transform data with `loc`, `iloc`, boolean masks, `assign`\n",
    "- Handle missing data (`isna`, `fillna`, `dropna`)\n",
    "- Aggregate with `groupby`, build pivot tables, reshape with `melt`/`pivot`\n",
    "- Merge/join/concat datasets\n",
    "- Work with text (`.str`) and dates (`to_datetime`, resampling, rolling windows)\n",
    "- Use categorical dtype for memory/speed\n",
    "- Apply functions (`apply`, `map`, `transform`) and vectorization\n",
    "- Plot with Matplotlib (one chart per figure, no explicit colors)\n",
    "- Practice with exercises and a capstone mini-project\n"
   ]
  },
  {
   "cell_type": "markdown",
   "id": "d733bc01",
   "metadata": {},
   "source": [
    "## 0) Setup"
   ]
  },
  {
   "cell_type": "code",
   "execution_count": null,
   "id": "edd9e10f",
   "metadata": {},
   "outputs": [],
   "source": [
    "\n",
    "import pandas as pd\n",
    "import numpy as np\n",
    "import matplotlib.pyplot as plt\n",
    "\n",
    "# For reproducibility\n",
    "rng = np.random.default_rng(42)\n",
    "\n",
    "pd.__version__\n"
   ]
  },
  {
   "cell_type": "markdown",
   "id": "841e61d6",
   "metadata": {},
   "source": [
    "\n",
    "## 1) Core Concepts: Series and DataFrame\n",
    "\n",
    "- **Series**: 1D labeled array (values + index)\n",
    "- **DataFrame**: 2D table of columns (each column is a Series)\n",
    "- **Index**: labels for rows (and optionally columns for DataFrame)\n",
    "- **Dtype**: data type per Series/column (e.g., `int64`, `float64`, `object`, `category`)\n"
   ]
  },
  {
   "cell_type": "code",
   "execution_count": null,
   "id": "fd4d7301",
   "metadata": {},
   "outputs": [],
   "source": [
    "\n",
    "s = pd.Series([10, 20, 30], index=[\"a\", \"b\", \"c\"], name=\"scores\")\n",
    "print(\"Series:\\n\", s)\n",
    "print(\"Values:\", s.values, \"Index:\", s.index, \"Dtype:\", s.dtype)\n",
    "\n",
    "df = pd.DataFrame({\n",
    "    \"size\": [650, 800, 1200, 1500],\n",
    "    \"bedrooms\": [1, 2, 3, 3],\n",
    "    \"price\": [120000, 155000, 240000, 310000]\n",
    "}, index=[\"h1\", \"h2\", \"h3\", \"h4\"])\n",
    "print(\"\\nDataFrame:\\n\", df)\n",
    "print(\"Shape:\", df.shape, \"Index:\", df.index, \"Columns:\", df.columns)\n"
   ]
  },
  {
   "cell_type": "markdown",
   "id": "1e393fd7",
   "metadata": {},
   "source": [
    "\n",
    "## 2) Creating DataFrames\n",
    "\n",
    "Common ways:\n",
    "- From dict of lists/arrays\n",
    "- From list of dicts\n",
    "- From NumPy arrays with column names\n"
   ]
  },
  {
   "cell_type": "code",
   "execution_count": null,
   "id": "38a7a683",
   "metadata": {},
   "outputs": [],
   "source": [
    "\n",
    "# Dict of lists\n",
    "df1 = pd.DataFrame({\"A\":[1,2,3], \"B\":[4,5,6]})\n",
    "# List of dicts\n",
    "df2 = pd.DataFrame([{\"A\":1,\"B\":4},{\"A\":2,\"B\":5},{\"A\":3,\"B\":6}])\n",
    "# NumPy arrays\n",
    "arr = np.arange(12).reshape(4,3)\n",
    "df3 = pd.DataFrame(arr, columns=[\"x\",\"y\",\"z\"])\n",
    "\n",
    "print(df1, \"\\n\")\n",
    "print(df2, \"\\n\")\n",
    "print(df3)\n"
   ]
  },
  {
   "cell_type": "markdown",
   "id": "3c8ff677",
   "metadata": {},
   "source": [
    "\n",
    "## 3) Reading and Writing Data\n",
    "\n",
    "- `pd.read_csv(\"file.csv\")`\n",
    "- `df.to_csv(\"file.csv\", index=False)`\n",
    "\n",
    "Useful `read_csv` args:\n",
    "- `sep`, `header`, `names`, `usecols`\n",
    "- `dtype`, `na_values`\n",
    "- `parse_dates`, `dayfirst`\n",
    "- `nrows`, `skiprows`, `encoding`\n"
   ]
  },
  {
   "cell_type": "code",
   "execution_count": null,
   "id": "9c84eae5",
   "metadata": {},
   "outputs": [],
   "source": [
    "\n",
    "from io import StringIO\n",
    "\n",
    "csv = StringIO(\"\"\"city,month,temp,visitors\n",
    "Alpha,2025-01,5,120\n",
    "Alpha,2025-02,8,160\n",
    "Alpha,2025-03,12,220\n",
    "Beta,2025-01,-2,80\n",
    "Beta,2025-02,1,110\n",
    "Beta,2025-03,6,150\n",
    "Gamma,2025-01,10,200\n",
    "Gamma,2025-02,12,230\n",
    "Gamma,2025-03,15,300\n",
    "\"\"\")\n",
    "df_city = pd.read_csv(csv, parse_dates=[\"month\"])\n",
    "print(df_city.head())\n",
    "# Save example\n",
    "path = \"/mnt/data/cities.csv\"\n",
    "df_city.to_csv(path, index=False)\n",
    "print(\"Saved to:\", path)\n"
   ]
  },
  {
   "cell_type": "markdown",
   "id": "0019b404",
   "metadata": {},
   "source": [
    "\n",
    "## 4) Inspecting Data\n",
    "\n",
    "- `df.head()`, `df.tail()`\n",
    "- `df.info()` (dtypes + nulls)\n",
    "- `df.describe()` (numeric summary)\n",
    "- `df.sample(n)` random rows\n",
    "- `df.isna().sum()` missing counts\n"
   ]
  },
  {
   "cell_type": "code",
   "execution_count": null,
   "id": "2f7461d4",
   "metadata": {},
   "outputs": [],
   "source": [
    "\n",
    "print(df_city.head(3))\n",
    "print(df_city.info())\n",
    "print(df_city.describe(numeric_only=True))\n",
    "print(\"Missing per column:\\n\", df_city.isna().sum())\n",
    "print(\"Random sample:\\n\", df_city.sample(3, random_state=0))\n"
   ]
  },
  {
   "cell_type": "markdown",
   "id": "b603786b",
   "metadata": {},
   "source": [
    "\n",
    "## 5) Selecting & Indexing: `loc` and `iloc`\n",
    "\n",
    "- `df[\"col\"]` / `df[[\"c1\",\"c2\"]]` select columns\n",
    "- `df.loc[row_label, col_label]` label-based\n",
    "- `df.iloc[row_idx, col_idx]` position-based\n",
    "\n",
    "**Tip:** prefer `loc`/`iloc` for clarity.\n"
   ]
  },
  {
   "cell_type": "code",
   "execution_count": null,
   "id": "e561b6b5",
   "metadata": {},
   "outputs": [],
   "source": [
    "\n",
    "print(df_city[[\"city\",\"temp\"]].head())\n",
    "\n",
    "# Set an index for demonstration (we'll reset later)\n",
    "df_idx = df_city.set_index(\"city\")\n",
    "print(\"\\nBy label with loc (rows with label 'Alpha'):\\n\", df_idx.loc[\"Alpha\"])\n",
    "\n",
    "print(\"\\nPosition with iloc (first 2 rows, first 2 cols):\\n\", df_city.iloc[:2, :2])\n",
    "\n",
    "# Reset index back\n",
    "df_idx = df_idx.reset_index()\n"
   ]
  },
  {
   "cell_type": "markdown",
   "id": "8030430e",
   "metadata": {},
   "source": [
    "\n",
    "## 6) Filtering Rows: Boolean Masks & `query`\n",
    "\n",
    "- Boolean masks: `df[df[\"col\"] > 10]`\n",
    "- `query`: string expression, great for multiple conditions\n"
   ]
  },
  {
   "cell_type": "code",
   "execution_count": null,
   "id": "4f14ff38",
   "metadata": {},
   "outputs": [],
   "source": [
    "\n",
    "# Boolean mask\n",
    "hot = df_city[df_city[\"temp\"] >= 10]\n",
    "\n",
    "# Multiple conditions (& and |) need parentheses\n",
    "alpha_hot = df_city[(df_city[\"city\"]==\"Alpha\") & (df_city[\"temp\"]>=10)]\n",
    "\n",
    "# query\n",
    "beta_cool = df_city.query('city == \"Beta\" and temp <= 1')\n",
    "\n",
    "print(\"hot:\\n\", hot)\n",
    "print(\"\\nalpha_hot:\\n\", alpha_hot)\n",
    "print(\"\\nbeta_cool:\\n\", beta_cool)\n"
   ]
  },
  {
   "cell_type": "markdown",
   "id": "7ca69c2a",
   "metadata": {},
   "source": [
    "\n",
    "## 7) Creating/Transforming Columns: `assign`, vectorized ops\n",
    "\n",
    "- Vectorized math: `df[\"new\"] = df[\"a\"] + df[\"b\"]`\n",
    "- `assign(...)` returns a new DataFrame (method-chaining friendly)\n",
    "- Avoid chained indexing for setting; prefer `.loc` or `.assign`\n"
   ]
  },
  {
   "cell_type": "code",
   "execution_count": null,
   "id": "0a6109f4",
   "metadata": {},
   "outputs": [],
   "source": [
    "\n",
    "df_aug = (df_city\n",
    "          .assign(temp_F = df_city[\"temp\"] * 9/5 + 32,\n",
    "                  is_peak = df_city[\"visitors\"] > 200))\n",
    "\n",
    "print(df_aug.head())\n",
    "\n",
    "# Safe in-place assignment using .loc\n",
    "df_city.loc[df_city[\"city\"]==\"Beta\", \"visitors\"] += 5\n",
    "print(\"\\nAfter in-place increment for Beta visitors:\\n\", df_city.head())\n"
   ]
  },
  {
   "cell_type": "markdown",
   "id": "87a74ffb",
   "metadata": {},
   "source": [
    "\n",
    "## 8) Missing Data: `isna`, `fillna`, `dropna`\n",
    "\n",
    "- Detect: `isna()` / `notna()`\n",
    "- Fill: `fillna(value)`\n",
    "- Drop: `dropna()` (rows with any nulls, configurable)\n"
   ]
  },
  {
   "cell_type": "code",
   "execution_count": null,
   "id": "e75d6ff3",
   "metadata": {},
   "outputs": [],
   "source": [
    "\n",
    "df_missing = df_city.copy()\n",
    "df_missing.loc[df_missing.index[1], \"visitors\"] = np.nan\n",
    "df_missing.loc[df_missing.index[4], \"temp\"] = np.nan\n",
    "\n",
    "print(\"Missing counts:\\n\", df_missing.isna().sum())\n",
    "\n",
    "# Fill numeric with mean, categorical with a sentinel\n",
    "filled = df_missing.copy()\n",
    "filled[\"visitors\"] = filled[\"visitors\"].fillna(filled[\"visitors\"].mean())\n",
    "filled[\"temp\"] = filled[\"temp\"].fillna(filled[\"temp\"].median())\n",
    "print(\"\\nAfter fillna (head):\\n\", filled.head())\n",
    "\n",
    "# Drop rows with any NaN\n",
    "dropped = df_missing.dropna()\n",
    "print(\"\\nAfter dropna (rows kept):\", len(dropped))\n"
   ]
  },
  {
   "cell_type": "markdown",
   "id": "44f492fd",
   "metadata": {},
   "source": [
    "\n",
    "## 9) Sorting & Duplicates\n",
    "\n",
    "- Sort rows: `sort_values(by=[...], ascending=...)`\n",
    "- Sort columns: `sort_index(axis=1)`\n",
    "- Remove duplicate rows: `drop_duplicates(subset=[...], keep=\"first\")`\n"
   ]
  },
  {
   "cell_type": "code",
   "execution_count": null,
   "id": "7ffd2f42",
   "metadata": {},
   "outputs": [],
   "source": [
    "\n",
    "sorted_df = df_city.sort_values(by=[\"city\",\"temp\"], ascending=[True, False])\n",
    "print(sorted_df.head())\n",
    "\n",
    "dupes = pd.DataFrame({\"A\":[1,1,2,2,3], \"B\":[9,9,8,7,7]})\n",
    "print(\"\\nOriginal with dupes:\\n\", dupes)\n",
    "print(\"Drop duplicate rows:\\n\", dupes.drop_duplicates())\n",
    "\n",
    "print(\"\\nSort columns by name:\\n\", df_city.sort_index(axis=1).head())\n"
   ]
  },
  {
   "cell_type": "markdown",
   "id": "571ca12d",
   "metadata": {},
   "source": [
    "\n",
    "## 10) GroupBy: Split–Apply–Combine\n",
    "\n",
    "- `groupby` groups rows by keys (e.g., a column like `city`)\n",
    "- `agg` computes aggregations per group (sum, mean, count, ...)\n",
    "- `transform` returns aligned result (same shape as original, for feature engineering)\n",
    "- `apply` for custom python functions (use sparingly for performance)\n"
   ]
  },
  {
   "cell_type": "code",
   "execution_count": null,
   "id": "6d08b91e",
   "metadata": {},
   "outputs": [],
   "source": [
    "\n",
    "g = df_city.groupby(\"city\")\n",
    "\n",
    "print(\"Mean by city:\\n\", g[[\"temp\",\"visitors\"]].mean())\n",
    "\n",
    "# transform example: z-score of visitors within each city\n",
    "df_city[\"visitors_z\"] = g[\"visitors\"].transform(lambda x: (x - x.mean())/x.std())\n",
    "print(\"\\nWith visitors_z:\\n\", df_city.head())\n",
    "\n",
    "# multi-agg\n",
    "agg_df = g.agg(visitors_mean=(\"visitors\",\"mean\"),\n",
    "               temp_max=(\"temp\",\"max\"),\n",
    "               n=(\"visitors\",\"count\"))\n",
    "print(\"\\nMulti-agg:\\n\", agg_df)\n"
   ]
  },
  {
   "cell_type": "markdown",
   "id": "ad1900c4",
   "metadata": {},
   "source": [
    "\n",
    "## 11) Pivot Tables\n",
    "\n",
    "`pivot_table` aggregates values across two dimensions (index & columns).\n"
   ]
  },
  {
   "cell_type": "code",
   "execution_count": null,
   "id": "d8090a3f",
   "metadata": {},
   "outputs": [],
   "source": [
    "\n",
    "pivot = pd.pivot_table(df_city,\n",
    "                       values=\"visitors\",\n",
    "                       index=\"city\",\n",
    "                       columns=df_city[\"month\"].dt.month,\n",
    "                       aggfunc=\"mean\",\n",
    "                       fill_value=0)\n",
    "print(pivot)\n"
   ]
  },
  {
   "cell_type": "markdown",
   "id": "b254e7fd",
   "metadata": {},
   "source": [
    "\n",
    "## 12) Reshaping: `melt` and `pivot`\n",
    "\n",
    "- `melt`: wide → long (unpivot)\n",
    "- `pivot`: long → wide (inverse of melt if keys unique)\n"
   ]
  },
  {
   "cell_type": "code",
   "execution_count": null,
   "id": "cea96ccf",
   "metadata": {},
   "outputs": [],
   "source": [
    "\n",
    "wide = pd.DataFrame({\n",
    "    \"city\": [\"Alpha\",\"Beta\"],\n",
    "    \"Jan\": [120,80],\n",
    "    \"Feb\": [160,110],\n",
    "    \"Mar\": [220,150]\n",
    "})\n",
    "\n",
    "long = wide.melt(id_vars=\"city\", var_name=\"month\", value_name=\"visitors\")\n",
    "print(\"Long format:\\n\", long)\n",
    "\n",
    "wide_back = long.pivot(index=\"city\", columns=\"month\", values=\"visitors\")\n",
    "print(\"\\nWide back:\\n\", wide_back)\n"
   ]
  },
  {
   "cell_type": "markdown",
   "id": "a1dc42c3",
   "metadata": {},
   "source": [
    "\n",
    "## 13) Merging, Joining, Concatenating\n",
    "\n",
    "- `pd.merge(left, right, on=\"key\", how=\"inner/left/right/outer\")`\n",
    "- `df.join(other, on=..., how=..., lsuffix=..., rsuffix=...)` (index-based)\n",
    "- `pd.concat([df1, df2], axis=0/1)`\n"
   ]
  },
  {
   "cell_type": "code",
   "execution_count": null,
   "id": "15522683",
   "metadata": {},
   "outputs": [],
   "source": [
    "\n",
    "cities = pd.DataFrame({\"city\":[\"Alpha\",\"Beta\",\"Gamma\"], \"region\":[\"North\",\"North\",\"South\"]})\n",
    "avg_income = pd.DataFrame({\"city\":[\"Alpha\",\"Beta\",\"Gamma\"], \"income\":[50_000, 42_000, 55_000]})\n",
    "\n",
    "merged = pd.merge(df_city, cities, on=\"city\", how=\"left\")\n",
    "merged = pd.merge(merged, avg_income, on=\"city\", how=\"left\")\n",
    "print(merged.head())\n",
    "\n",
    "# Concatenate rows\n",
    "df_extra = merged.iloc[:2].copy()\n",
    "concat_rows = pd.concat([merged, df_extra], axis=0, ignore_index=True)\n",
    "print(\"\\nConcatenated rows (tail):\\n\", concat_rows.tail())\n"
   ]
  },
  {
   "cell_type": "markdown",
   "id": "e426b257",
   "metadata": {},
   "source": [
    "\n",
    "## 14) String Methods (`.str`)\n",
    "\n",
    "Vectorized string ops for Series of dtype `object` or `string`:\n",
    "- case changes: `.str.lower()`, `.str.upper()`, `.str.title()`\n",
    "- contains/split/extract/replace: `.str.contains`, `.str.split`, `.str.extract`, `.str.replace`\n"
   ]
  },
  {
   "cell_type": "code",
   "execution_count": null,
   "id": "e788e67a",
   "metadata": {},
   "outputs": [],
   "source": [
    "\n",
    "cities_series = pd.Series([\" New York \", \"london\", \"Tehran\", \"san-francisco\"])\n",
    "clean = (cities_series.str.strip()\n",
    "         .str.replace(\"-\", \" \", regex=False)\n",
    "         .str.title())\n",
    "print(clean)\n",
    "\n",
    "# contains & extract\n",
    "s2 = pd.Series([\"ID:123\", \"ID:999\", \"NONE\"])\n",
    "mask = s2.str.contains(r\"ID:\\d+\", regex=True)\n",
    "ids = s2.str.extract(r\"(\\d+)\", expand=False)\n",
    "print(\"\\nmask:\", mask.values, \"extracted ids:\", ids.values)\n"
   ]
  },
  {
   "cell_type": "markdown",
   "id": "b82c5112",
   "metadata": {},
   "source": [
    "\n",
    "## 15) Datetime & Time Series\n",
    "\n",
    "- Convert: `pd.to_datetime`\n",
    "- Components: `.dt.year`, `.dt.month`, `.dt.day`\n",
    "- Resample: `.resample(\"M\").sum()`, `.mean()`, etc. (needs datetime index)\n",
    "- Rolling windows: `.rolling(window).mean()`\n"
   ]
  },
  {
   "cell_type": "code",
   "execution_count": null,
   "id": "46534941",
   "metadata": {},
   "outputs": [],
   "source": [
    "\n",
    "# Build time series\n",
    "dates = pd.date_range(\"2025-01-01\", periods=90, freq=\"D\")\n",
    "visitors = (100 + np.cumsum(rng.normal(0, 2, size=len(dates)))).round().astype(int)\n",
    "ts = pd.DataFrame({\"visitors\": visitors}, index=dates)\n",
    "\n",
    "# Resample monthly\n",
    "monthly = ts.resample(\"M\").sum()\n",
    "\n",
    "# Rolling mean (7-day)\n",
    "roll7 = ts[\"visitors\"].rolling(7, min_periods=1).mean()\n",
    "\n",
    "print(\"Monthly sum:\\n\", monthly.head())\n",
    "\n",
    "# Plot with matplotlib (single figure)\n",
    "plt.figure()\n",
    "plt.plot(ts.index, ts[\"visitors\"], label=\"daily\")\n",
    "plt.plot(roll7.index, roll7, label=\"7-day mean\")\n",
    "plt.title(\"Daily Visitors with 7-Day Rolling Mean\")\n",
    "plt.xlabel(\"Date\")\n",
    "plt.ylabel(\"Visitors\")\n",
    "plt.legend()\n",
    "plt.xticks(rotation=45)\n",
    "plt.tight_layout()\n",
    "plt.show()\n"
   ]
  },
  {
   "cell_type": "markdown",
   "id": "f7a239ff",
   "metadata": {},
   "source": [
    "\n",
    "## 16) Categorical Dtype\n",
    "\n",
    "Use `category` for repeated strings → smaller memory & faster ops.\n"
   ]
  },
  {
   "cell_type": "code",
   "execution_count": null,
   "id": "b26d5f5c",
   "metadata": {},
   "outputs": [],
   "source": [
    "\n",
    "df_cat = merged.copy()\n",
    "df_cat[\"city\"] = df_cat[\"city\"].astype(\"category\")\n",
    "df_cat[\"region\"] = df_cat[\"region\"].astype(\"category\")\n",
    "print(df_cat.dtypes)\n",
    "print(\"Memory usage before/after (bytes):\",\n",
    "      merged.memory_usage(deep=True).sum(), \"→\",\n",
    "      df_cat.memory_usage(deep=True).sum())\n"
   ]
  },
  {
   "cell_type": "markdown",
   "id": "137dbfc0",
   "metadata": {},
   "source": [
    "\n",
    "## 17) `apply`, `map`, and `transform`\n",
    "\n",
    "- Prefer vectorization first; then `map`/`replace` for simple dict-like mappings\n",
    "- `apply` for row/column-wise Python functions (slower; use sparingly)\n",
    "- `transform` for groupwise feature engineering that retains original length\n"
   ]
  },
  {
   "cell_type": "code",
   "execution_count": null,
   "id": "1462a391",
   "metadata": {},
   "outputs": [],
   "source": [
    "\n",
    "# map: replace values\n",
    "region_map = {\"North\":\"N\", \"South\":\"S\"}\n",
    "df_map = merged.copy()\n",
    "df_map[\"region_short\"] = df_map[\"region\"].map(region_map)\n",
    "print(df_map[[\"region\",\"region_short\"]].head())\n",
    "\n",
    "# apply column-wise\n",
    "def range_span(x):\n",
    "    return x.max() - x.min()\n",
    "\n",
    "span = merged[[\"temp\",\"visitors\"]].apply(range_span)\n",
    "print(\"\\nColumn spans:\\n\", span)\n",
    "\n",
    "# transform with groupby (already shown z-score earlier)\n"
   ]
  },
  {
   "cell_type": "markdown",
   "id": "72005150",
   "metadata": {},
   "source": [
    "\n",
    "## 18) Indexes & MultiIndex\n",
    "\n",
    "- Set/reset index: `set_index`, `reset_index`\n",
    "- MultiIndex: hierarchical row labels (e.g., city + month)\n",
    "- Stack/unstack: reshape between rows and columns using index levels\n"
   ]
  },
  {
   "cell_type": "code",
   "execution_count": null,
   "id": "2e796060",
   "metadata": {},
   "outputs": [],
   "source": [
    "\n",
    "multi = (merged\n",
    "         .assign(month_num = merged[\"month\"].dt.month)\n",
    "         .set_index([\"city\",\"month_num\"])\n",
    "         .sort_index())\n",
    "\n",
    "print(multi.head())\n",
    "\n",
    "# Unstack month to columns\n",
    "unstacked = multi[\"visitors\"].unstack(\"month_num\")\n",
    "print(\"\\nUnstacked by month:\\n\", unstacked)\n",
    "\n",
    "# Back to long\n",
    "stacked = unstacked.stack()\n",
    "print(\"\\nStacked back (head):\\n\", stacked.head())\n"
   ]
  },
  {
   "cell_type": "markdown",
   "id": "dbed6fbb",
   "metadata": {},
   "source": [
    "\n",
    "## 19) Plotting with pandas (Matplotlib backend)\n",
    "\n",
    "We stick to Matplotlib explicitly for clarity—one chart per figure and no explicit colors.\n"
   ]
  },
  {
   "cell_type": "code",
   "execution_count": null,
   "id": "15c78d47",
   "metadata": {},
   "outputs": [],
   "source": [
    "\n",
    "city_group = merged.groupby(\"city\")[\"visitors\"].mean()\n",
    "\n",
    "plt.figure()\n",
    "plt.bar(city_group.index, city_group.values)\n",
    "plt.title(\"Average Visitors by City\")\n",
    "plt.xlabel(\"City\")\n",
    "plt.ylabel(\"Avg Visitors\")\n",
    "plt.show()\n"
   ]
  },
  {
   "cell_type": "markdown",
   "id": "3baf90d1",
   "metadata": {},
   "source": [
    "\n",
    "## 20) Display Options\n",
    "\n",
    "- `pd.set_option(\"display.max_rows\", 100)`\n",
    "- `pd.set_option(\"display.precision\", 3)`\n"
   ]
  },
  {
   "cell_type": "code",
   "execution_count": null,
   "id": "2f70109c",
   "metadata": {},
   "outputs": [],
   "source": [
    "\n",
    "pd.set_option(\"display.max_rows\", 20)\n",
    "pd.set_option(\"display.precision\", 3)\n",
    "merged.head(10)\n"
   ]
  },
  {
   "cell_type": "markdown",
   "id": "89be9d19",
   "metadata": {},
   "source": [
    "\n",
    "## 21) Performance Tips\n",
    "\n",
    "- Prefer vectorized ops and built-ins (`assign`, `where`, `clip`, `min/max/mean`, etc.)\n",
    "- Use appropriate dtypes (e.g., `category` for repeated strings)\n",
    "- Avoid row-wise Python loops (`for` over DataFrame rows); use vectorization or `itertuples()`\n",
    "- For large CSVs, use `dtype` and `usecols` in `read_csv` for speed and memory\n",
    "- Use `groupby(..., observed=True)` with categoricals when appropriate\n"
   ]
  },
  {
   "cell_type": "markdown",
   "id": "fd7f5696",
   "metadata": {},
   "source": [
    "\n",
    "## 22) Exercises\n",
    "\n",
    "1. From `merged`, compute total visitors per `region` per month. Which region had the highest total in March?\n",
    "2. Create a new column `visitors_per_degree` = `visitors` / (`temp` + 10) and get its mean by `city`.\n",
    "3. Build a pivot table with `index=city`, `columns=month (as month name)`, values=`visitors`, `aggfunc='sum'`.\n",
    "4. Convert `region` to categorical and report memory saved vs object dtype.\n",
    "5. Using the `ts` time series earlier, compute a 14-day rolling median and plot it.\n"
   ]
  },
  {
   "cell_type": "markdown",
   "id": "dd642895",
   "metadata": {},
   "source": [
    "\n",
    "## 23) Capstone Mini-Project 🏁\n",
    "\n",
    "**Scenario:** You have city-level monthly data with temperature and visitors.\n",
    "\n",
    "**Tasks:**\n",
    "1. Create a **clean** DataFrame from scratch (or reuse `df_city`), ensuring `month` is datetime.\n",
    "2. Add features:\n",
    "   - `season` (Winter, Spring, Summer, Autumn) based on month\n",
    "   - `is_peak` (visitors > city median)\n",
    "3. Group by `city` and `season` to compute total visitors and average temperature.\n",
    "4. Build a pivot table `index=city`, `columns=season`, values=total visitors.\n",
    "5. Plot any **one** insightful chart and save it to disk.\n"
   ]
  },
  {
   "cell_type": "code",
   "execution_count": null,
   "id": "bf12c537",
   "metadata": {},
   "outputs": [],
   "source": [
    "\n",
    "# 1) Start from df_city (already parsed dates)\n",
    "data = df_city.copy()\n",
    "\n",
    "# 2) Add season and is_peak\n",
    "month = data[\"month\"].dt.month\n",
    "season_map = {12:\"Winter\", 1:\"Winter\", 2:\"Winter\",\n",
    "              3:\"Spring\", 4:\"Spring\", 5:\"Spring\",\n",
    "              6:\"Summer\", 7:\"Summer\", 8:\"Summer\",\n",
    "              9:\"Autumn\", 10:\"Autumn\", 11:\"Autumn\"}\n",
    "data[\"season\"] = month.map(season_map)\n",
    "\n",
    "city_median = data.groupby(\"city\")[\"visitors\"].transform(\"median\")\n",
    "data[\"is_peak\"] = data[\"visitors\"] > city_median\n",
    "\n",
    "# 3) Group\n",
    "grp = data.groupby([\"city\",\"season\"]).agg(\n",
    "    total_visitors=(\"visitors\",\"sum\"),\n",
    "    avg_temp=(\"temp\",\"mean\"),\n",
    "    count=(\"visitors\",\"count\")\n",
    ").reset_index()\n",
    "\n",
    "print(grp.head())\n",
    "\n",
    "# 4) Pivot\n",
    "pvt = grp.pivot(index=\"city\", columns=\"season\", values=\"total_visitors\")\n",
    "print(\"\\nPivot visitors by season:\\n\", pvt)\n",
    "\n",
    "# 5) Plot and save\n",
    "plt.figure()\n",
    "plt.bar(pvt.columns.astype(str), pvt.loc[\"Alpha\"].values)\n",
    "plt.title(\"Alpha: Total Visitors by Season\")\n",
    "plt.xlabel(\"Season\")\n",
    "plt.ylabel(\"Total Visitors\")\n",
    "out_path = \"/mnt/data/alpha_visitors_by_season.png\"\n",
    "plt.savefig(out_path, dpi=300, bbox_inches=\"tight\")\n",
    "plt.show()\n",
    "\n",
    "print(\"Saved chart to:\", out_path)\n"
   ]
  }
 ],
 "metadata": {},
 "nbformat": 4,
 "nbformat_minor": 5
}
