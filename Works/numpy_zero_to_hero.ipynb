{
 "cells": [
  {
   "cell_type": "markdown",
   "id": "a49c9fb0",
   "metadata": {},
   "source": [
    "\n",
    "# NumPy: Zero to Hero 🚀\n",
    "\n",
    "Welcome! This notebook teaches **NumPy** from the ground up—fully self-paced and hands-on.\n",
    "You will learn arrays, shapes, broadcasting, indexing, vectorization, linear algebra,\n",
    "random generation, and performance tips.\n",
    "\n",
    "**You will:**\n",
    "- Understand arrays (`ndarray`), shapes, and dtypes\n",
    "- Master indexing & slicing, boolean/fancy indexing\n",
    "- Use broadcasting and axis-based reductions with confidence\n",
    "- Reshape, stack, split, sort, search\n",
    "- Handle missing values (`NaN`, `Inf`) and numerical stability basics\n",
    "- Apply vectorization & ufuncs (universal functions)\n",
    "- Perform core linear algebra (dot, matmul, solve, norms, eig/SVD overview)\n",
    "- Generate random numbers with `numpy.random.Generator`\n",
    "- Benchmark vectorized vs looped Python\n",
    "\n",
    "Let's go! 💪\n"
   ]
  },
  {
   "cell_type": "markdown",
   "id": "043a1aa8",
   "metadata": {},
   "source": [
    "## 0) Setup"
   ]
  },
  {
   "cell_type": "code",
   "execution_count": null,
   "id": "2f0bb28d",
   "metadata": {},
   "outputs": [],
   "source": [
    "\n",
    "import numpy as np\n",
    "\n",
    "# For reproducibility in examples\n",
    "rng = np.random.default_rng(42)\n",
    "np.__version__\n"
   ]
  },
  {
   "cell_type": "markdown",
   "id": "db6c550a",
   "metadata": {},
   "source": [
    "\n",
    "## 1) `ndarray` Basics\n",
    "\n",
    "**What is an `ndarray`?**\n",
    "- A **homogeneous** multidimensional array of fixed-size items.\n",
    "- Fast and memory-efficient compared to Python lists.\n",
    "- Supports **vectorized** operations (operate on whole arrays at once).\n",
    "\n",
    "**Key terms:**\n",
    "- `shape`: tuple of dimensions (rows, cols, ...)\n",
    "- `dtype`: data type of the array elements (e.g., `float64`, `int32`)\n",
    "- `ndim`: number of dimensions (rank)\n",
    "- `size`: total number of elements\n",
    "- `itemsize`: bytes per element\n"
   ]
  },
  {
   "cell_type": "code",
   "execution_count": null,
   "id": "c561ba6f",
   "metadata": {},
   "outputs": [],
   "source": [
    "\n",
    "a1 = np.array([1, 2, 3], dtype=np.int64)          # 1D array\n",
    "a2 = np.array([[1.0, 2.0], [3.0, 4.0]])           # 2D array\n",
    "a3 = np.zeros((2, 3))                              # zeros\n",
    "a4 = np.ones((2, 3))                               # ones\n",
    "a5 = np.full((2, 3), 7)                            # filled with 7\n",
    "a6 = np.arange(0, 10, 2)                           # 0..8 step 2\n",
    "a7 = np.linspace(0, 1, 5)                          # 5 points 0..1\n",
    "a8 = rng.integers(0, 10, size=(2,3))               # random ints\n",
    "\n",
    "print(\"a2:\", a2)\n",
    "print(\"shape:\", a2.shape, \"ndim:\", a2.ndim, \"dtype:\", a2.dtype)\n",
    "print(\"size:\", a2.size, \"itemsize:\", a2.itemsize, \"nbytes:\", a2.nbytes)\n"
   ]
  },
  {
   "cell_type": "markdown",
   "id": "a2b01651",
   "metadata": {},
   "source": [
    "\n",
    "## 2) Dtypes & Casting\n",
    "\n",
    "NumPy arrays are **homogeneous**: all elements have the same dtype.\n",
    "You can convert (cast) dtypes explicitly.\n"
   ]
  },
  {
   "cell_type": "code",
   "execution_count": null,
   "id": "d21dc651",
   "metadata": {},
   "outputs": [],
   "source": [
    "\n",
    "b = np.array([1, 2, 3], dtype=np.int32)\n",
    "print(b, b.dtype)\n",
    "\n",
    "c = b.astype(np.float64)\n",
    "print(c, c.dtype)\n",
    "\n",
    "d = np.array([1.2, 2.7, 3.1])\n",
    "print(\"Rounded:\", np.rint(d), \"Floored:\", np.floor(d), \"Ceiled:\", np.ceil(d))\n"
   ]
  },
  {
   "cell_type": "markdown",
   "id": "361d0dae",
   "metadata": {},
   "source": [
    "\n",
    "## 3) Indexing & Slicing\n",
    "\n",
    "**Indexing** gets elements; **slicing** gets views of subarrays.\n",
    "\n",
    "- 1D: `a[i]`, `a[start:stop:step]`\n",
    "- 2D: `A[row, col]`, `A[r1:r2, c1:c2]`\n",
    "- Negative indices count from the end.\n"
   ]
  },
  {
   "cell_type": "code",
   "execution_count": null,
   "id": "13346f88",
   "metadata": {},
   "outputs": [],
   "source": [
    "\n",
    "v = np.array([10, 11, 12, 13, 14, 15])\n",
    "print(v[0], v[-1], v[1:4], v[::2])\n",
    "\n",
    "M = np.arange(1, 13).reshape(3, 4)  # 3x4 matrix 1..12\n",
    "print(\"M:\", M)\n",
    "print(\"Element M[1,2]:\", M[1,2])\n",
    "print(\"Row slice M[1,:]:\", M[1, :])\n",
    "print(\"Col slice M[:,2]:\", M[:, 2])\n",
    "print(\"Submatrix M[0:2, 1:3]:\", M[0:2, 1:3])\n"
   ]
  },
  {
   "cell_type": "markdown",
   "id": "29908ce4",
   "metadata": {},
   "source": [
    "\n",
    "## 4) Views vs Copies\n",
    "\n",
    "**Important:** Slices return **views** (no data copied). Modifying a view affects the original array.\n",
    "Use `.copy()` if you need an independent array.\n"
   ]
  },
  {
   "cell_type": "code",
   "execution_count": null,
   "id": "65e5b39b",
   "metadata": {},
   "outputs": [],
   "source": [
    "\n",
    "A = np.arange(10)\n",
    "B = A[2:7]      # view\n",
    "B[0] = 99       # modifies A as well\n",
    "print(\"A after modifying B:\", A)\n",
    "\n",
    "C = A[2:7].copy()\n",
    "C[0] = -1\n",
    "print(\"A unchanged by C:\", A)\n",
    "print(\"C:\", C)\n"
   ]
  },
  {
   "cell_type": "markdown",
   "id": "eeff0df2",
   "metadata": {},
   "source": [
    "\n",
    "## 5) Axis Explained\n",
    "\n",
    "`axis` tells NumPy **which dimension** to operate along.\n",
    "\n",
    "- `axis=0`: down the **rows** (operate **column-wise**)\n",
    "- `axis=1`: across the **columns** (operate **row-wise**)\n",
    "- Higher dimensions follow the same idea.\n",
    "\n",
    "**Example:** Summing a 2D array by `axis`.\n"
   ]
  },
  {
   "cell_type": "code",
   "execution_count": null,
   "id": "68eff4d0",
   "metadata": {},
   "outputs": [],
   "source": [
    "\n",
    "X = np.arange(1, 13).reshape(3,4)\n",
    "print(\"X:\", X)\n",
    "print(\"Sum axis=0 (columns):\", X.sum(axis=0))  # col sums\n",
    "print(\"Sum axis=1 (rows):\", X.sum(axis=1))     # row sums\n",
    "print(\"Global sum (no axis):\", X.sum())\n"
   ]
  },
  {
   "cell_type": "markdown",
   "id": "14e375b9",
   "metadata": {},
   "source": [
    "\n",
    "## 6) Broadcasting\n",
    "\n",
    "**Definition:** Automatic expansion of arrays with **compatible shapes** during operations.\n",
    "Rules (match from rightmost dim):\n",
    "1. Dimensions equal → compatible\n",
    "2. One of them is 1 → stretch (repeat) to match\n",
    "3. Otherwise → not compatible\n",
    "\n",
    "**Examples:**\n"
   ]
  },
  {
   "cell_type": "code",
   "execution_count": null,
   "id": "717bcbff",
   "metadata": {},
   "outputs": [],
   "source": [
    "\n",
    "A = np.array([[1,2,3],[4,5,6]])     # shape (2,3)\n",
    "b = np.array([10,20,30])            # shape (3,)\n",
    "print(A + b)                        # b broadcast to (2,3)\n",
    "\n",
    "col = np.array([[1],[2]])           # shape (2,1)\n",
    "print(A * col)                      # col broadcast to (2,3)\n",
    "\n",
    "# Incompatible example (uncomment to see error):\n",
    "# np.ones((2,3)) + np.ones((4,1))\n"
   ]
  },
  {
   "cell_type": "markdown",
   "id": "ef72eb51",
   "metadata": {},
   "source": [
    "\n",
    "## 7) Reshaping, Flattening, Transpose\n",
    "\n",
    "- `reshape(r, c, ...)`: change shape without changing data\n",
    "- `ravel()` / `flatten()`: 1D view or copy\n",
    "- `T`: transpose (swap axes for 2D)\n"
   ]
  },
  {
   "cell_type": "code",
   "execution_count": null,
   "id": "4ee40099",
   "metadata": {},
   "outputs": [],
   "source": [
    "\n",
    "Y = np.arange(12)\n",
    "print(\"reshape(3,4):\", Y.reshape(3,4))\n",
    "print(\"ravel():\", Y.reshape(3,4).ravel())\n",
    "print(\"transpose:\", np.arange(6).reshape(2,3).T)\n"
   ]
  },
  {
   "cell_type": "markdown",
   "id": "416eeaed",
   "metadata": {},
   "source": [
    "\n",
    "## 8) Stacking & Splitting\n",
    "\n",
    "**Stacking:** `np.concatenate`, `np.vstack`, `np.hstack`  \n",
    "**Splitting:** `np.split`, `np.vsplit`, `np.hsplit`\n"
   ]
  },
  {
   "cell_type": "code",
   "execution_count": null,
   "id": "2f9b8f50",
   "metadata": {},
   "outputs": [],
   "source": [
    "\n",
    "a = np.array([1,2,3])\n",
    "b = np.array([4,5,6])\n",
    "print(\"hstack:\", np.hstack([a, b]))\n",
    "\n",
    "A = np.arange(1,7).reshape(2,3)\n",
    "B = np.arange(7,13).reshape(2,3)\n",
    "print(\"vstack:\", np.vstack([A,B]))\n",
    "\n",
    "C = np.arange(10)\n",
    "left, right = np.split(C, [4])\n",
    "print(\"split at index 4:\", left, right)\n"
   ]
  },
  {
   "cell_type": "markdown",
   "id": "7694d96a",
   "metadata": {},
   "source": [
    "\n",
    "## 9) Boolean & Fancy Indexing\n",
    "\n",
    "- **Boolean indexing:** pass a boolean mask of same length/shape\n",
    "- **Fancy indexing:** pass arrays/lists of indices\n",
    "\n",
    "Useful for filtering rows, conditional assignment, sampling columns.\n"
   ]
  },
  {
   "cell_type": "code",
   "execution_count": null,
   "id": "abe21faa",
   "metadata": {},
   "outputs": [],
   "source": [
    "\n",
    "data = rng.integers(0, 20, size=10)\n",
    "mask = data % 2 == 0      # even numbers\n",
    "print(\"data:\", data)\n",
    "print(\"even:\", data[mask])\n",
    "\n",
    "# Conditional assignment\n",
    "data2 = data.copy()\n",
    "data2[data2 < 10] = -1\n",
    "print(\"conditional assign:\", data2)\n",
    "\n",
    "# Fancy indexing\n",
    "M = np.arange(1,17).reshape(4,4)\n",
    "rows = [0, 2]\n",
    "cols = [1, 3]\n",
    "print(\"Fancy pick:\", M[rows, cols])\n"
   ]
  },
  {
   "cell_type": "markdown",
   "id": "ea47f217",
   "metadata": {},
   "source": [
    "\n",
    "## 10) Aggregations & Arg Functions\n",
    "\n",
    "Common reductions: `sum`, `mean`, `std`, `var`, `min`, `max`, `median`.  \n",
    "Index of extrema: `argmin`, `argmax`.  \n",
    "Sort helpers: `sort`, `argsort`.\n"
   ]
  },
  {
   "cell_type": "code",
   "execution_count": null,
   "id": "c7fc2cad",
   "metadata": {},
   "outputs": [],
   "source": [
    "\n",
    "Z = rng.normal(size=(3,5))\n",
    "print(\"Z:\", Z)\n",
    "print(\"mean overall:\", Z.mean())\n",
    "print(\"mean by column:\", Z.mean(axis=0))\n",
    "print(\"std by row:\", Z.std(axis=1))\n",
    "\n",
    "flat = Z.ravel()\n",
    "print(\"argmax (flat index):\", flat.argmax(), \"max value:\", flat.max())\n",
    "print(\"argsort (indices):\", np.argsort(flat))\n"
   ]
  },
  {
   "cell_type": "markdown",
   "id": "0b942661",
   "metadata": {},
   "source": [
    "\n",
    "## 11) Sorting & Searching\n",
    "\n",
    "- `np.sort(a)`: returns a sorted copy\n",
    "- `a.sort()`: sorts in place\n",
    "- `np.argsort(a)`: indices that would sort `a`\n",
    "- `np.searchsorted(sorted_a, value)`: insertion index to keep order\n"
   ]
  },
  {
   "cell_type": "code",
   "execution_count": null,
   "id": "81d73359",
   "metadata": {},
   "outputs": [],
   "source": [
    "\n",
    "w = rng.integers(0, 50, size=10)\n",
    "print(\"w:\", w)\n",
    "print(\"sorted copy:\", np.sort(w))\n",
    "\n",
    "w.sort()\n",
    "print(\"w after in-place sort:\", w)\n",
    "\n",
    "idx = np.searchsorted(w, 25)\n",
    "print(\"Insert 25 at index:\", idx, \"to keep order\")\n"
   ]
  },
  {
   "cell_type": "markdown",
   "id": "7b4cc765",
   "metadata": {},
   "source": [
    "\n",
    "## 12) Missing Values & Numerical Stability\n",
    "\n",
    "- Missing values: `np.nan` (not-a-number), infinities: `np.inf`, `-np.inf`\n",
    "- Use `np.isnan`, `np.isfinite`, `np.nanmean`, `np.nanstd`, etc.\n",
    "- Numerical stability tips: avoid subtracting similar large numbers; prefer `logaddexp` for log-sum-exp.\n"
   ]
  },
  {
   "cell_type": "code",
   "execution_count": null,
   "id": "b8b38617",
   "metadata": {},
   "outputs": [],
   "source": [
    "\n",
    "arr = np.array([1.0, np.nan, 2.0, np.inf, -np.inf, 3.0])\n",
    "print(\"isnan:\", np.isnan(arr))\n",
    "print(\"isfinite:\", np.isfinite(arr))\n",
    "\n",
    "x = np.array([1.0, np.nan, 2.0, 3.0])\n",
    "print(\"nanmean:\", np.nanmean(x), \"nanstd:\", np.nanstd(x))\n",
    "\n",
    "# log-sum-exp trick using numpy helpers\n",
    "a = np.array([1000.0, 1001.0, 1002.0])\n",
    "# naive exp would overflow; use subtract max and add back in log-space\n",
    "m = a.max()\n",
    "stable_logsumexp = m + np.log(np.sum(np.exp(a - m)))\n",
    "print(\"stable log-sum-exp:\", stable_logsumexp)\n"
   ]
  },
  {
   "cell_type": "markdown",
   "id": "50149399",
   "metadata": {},
   "source": [
    "\n",
    "## 13) Vectorization & UFuncs\n",
    "\n",
    "**Vectorization:** Replace slow Python loops with fast array operations.  \n",
    "**UFuncs:** Universal functions that operate elementwise (e.g., `np.add`, `np.sin`, `np.exp`).\n",
    "\n",
    "Benefits: speed, clearer code, fewer bugs.\n"
   ]
  },
  {
   "cell_type": "code",
   "execution_count": null,
   "id": "335aaddf",
   "metadata": {},
   "outputs": [],
   "source": [
    "\n",
    "# Loop vs vectorized\n",
    "N = 1_00000\n",
    "x = rng.normal(size=N)\n",
    "\n",
    "# Python loop (slow)\n",
    "def py_square(xx):\n",
    "    out = np.empty_like(xx)\n",
    "    for i in range(len(xx)):\n",
    "        out[i] = xx[i] * xx[i]\n",
    "    return out\n",
    "\n",
    "# Vectorized\n",
    "vec = x * x\n",
    "\n",
    "# Sanity check equality\n",
    "np.allclose(py_square(x), vec)\n"
   ]
  },
  {
   "cell_type": "markdown",
   "id": "5788dd6e",
   "metadata": {},
   "source": [
    "\n",
    "### Timing Tip\n",
    "Use Jupyter's `%timeit` magic (uncomment in a live notebook) to compare performance:\n",
    "```python\n",
    "# %timeit py_square(x)\n",
    "# %timeit x * x\n",
    "```\n",
    "Vectorized operations are typically **10x–100x faster**.\n"
   ]
  },
  {
   "cell_type": "markdown",
   "id": "90f80269",
   "metadata": {},
   "source": [
    "\n",
    "## 15) Linear Algebra (Linalg)\n",
    "\n",
    "Core operations:\n",
    "- Dot products: `a @ b` or `np.dot(a, b)`\n",
    "- Matrix multiply: `A @ B`\n",
    "- Solve linear systems: `np.linalg.solve(A, b)` (preferred over `inv`)\n",
    "- Norms: `np.linalg.norm(x, ord=2)`\n",
    "- Eigenvalues/eigenvectors: `np.linalg.eig(A)`\n",
    "- SVD: `np.linalg.svd(A)`\n"
   ]
  },
  {
   "cell_type": "code",
   "execution_count": null,
   "id": "cae9587a",
   "metadata": {},
   "outputs": [],
   "source": [
    "\n",
    "A = rng.normal(size=(3,3))\n",
    "b = rng.normal(size=3)\n",
    "\n",
    "# Solve A x = b\n",
    "x = np.linalg.solve(A, b)\n",
    "residual = A @ x - b\n",
    "\n",
    "print(\"solution x:\", x)\n",
    "print(\"residual (should be ~0):\", residual)\n",
    "\n",
    "# Norms\n",
    "v = np.array([3.0, 4.0])\n",
    "print(\"L2 norm:\", np.linalg.norm(v))\n",
    "\n",
    "# Eigen (not guaranteed real for non-symmetric A)\n",
    "vals, vecs = np.linalg.eig(A)\n",
    "print(\"eigvals:\", vals)\n",
    "\n",
    "# SVD\n",
    "U, S, VT = np.linalg.svd(A, full_matrices=False)\n",
    "print(\"singular values:\", S)\n"
   ]
  },
  {
   "cell_type": "markdown",
   "id": "bc44e71e",
   "metadata": {},
   "source": [
    "\n",
    "## 16) Random Numbers (Generator API)\n",
    "\n",
    "Prefer `numpy.random.Generator` for new code:\n",
    "- `integers`, `random`, `normal`, `uniform`, `choice`, `permutation`, etc.\n",
    "- Set a seed for reproducibility.\n"
   ]
  },
  {
   "cell_type": "code",
   "execution_count": null,
   "id": "a0a4db06",
   "metadata": {},
   "outputs": [],
   "source": [
    "\n",
    "rng = np.random.default_rng(123)\n",
    "\n",
    "print(\"integers:\", rng.integers(0, 10, size=5))\n",
    "print(\"uniform:\", rng.uniform(0, 1, size=3))\n",
    "print(\"normal:\", rng.normal(loc=0, scale=1, size=3))\n",
    "\n",
    "# Random sampling without replacement\n",
    "items = np.array(list(\"ABCDEFGHIJ\"))\n",
    "print(\"choice:\", rng.choice(items, size=4, replace=False))\n",
    "\n",
    "# Shuffle / permutation\n",
    "p = rng.permutation(10)  # returns a permuted array of indices 0..9\n",
    "print(\"permutation indices:\", p)\n"
   ]
  },
  {
   "cell_type": "markdown",
   "id": "e090521e",
   "metadata": {},
   "source": [
    "\n",
    "## 17) `where`, `clip`, `piecewise`\n",
    "\n",
    "- `np.where(cond, x, y)`: choose elements by condition\n",
    "- `np.clip(a, min, max)`: limit values to a range\n",
    "- `np.piecewise(x, condlist, funclist)`: apply piecewise functions\n"
   ]
  },
  {
   "cell_type": "code",
   "execution_count": null,
   "id": "b7bfbabd",
   "metadata": {},
   "outputs": [],
   "source": [
    "\n",
    "x = np.linspace(-3, 3, 7)\n",
    "y = np.where(x >= 0, x**2, -1)   # if x>=0 use x^2 else -1\n",
    "print(\"where example:\", y)\n",
    "\n",
    "z = np.array([-10, -1, 0, 2, 100])\n",
    "print(\"clipped:\", np.clip(z, 0, 10))\n",
    "\n",
    "pw = np.piecewise(x,\n",
    "                  [x < 0, x >= 0],\n",
    "                  [lambda t: -t, lambda t: t**2])\n",
    "print(\"piecewise example:\", pw)\n"
   ]
  },
  {
   "cell_type": "markdown",
   "id": "1b1a9083",
   "metadata": {},
   "source": [
    "\n",
    "## 18) Broadcasting: Shape Mechanics (Deep Dive)\n",
    "\n",
    "Use `np.newaxis` (alias `None`) to add dimensions for broadcasting.\n"
   ]
  },
  {
   "cell_type": "code",
   "execution_count": null,
   "id": "3a944900",
   "metadata": {},
   "outputs": [],
   "source": [
    "\n",
    "u = np.array([1,2,3])         # shape (3,)\n",
    "v = np.array([10,20,30])      # shape (3,)\n",
    "\n",
    "# Make u a column, v a row to build an outer sum\n",
    "uc = u[:, np.newaxis]         # shape (3,1)\n",
    "vr = v[np.newaxis, :]         # shape (1,3)\n",
    "\n",
    "outer_sum = uc + vr           # shape (3,3)\n",
    "print(\"outer sum:\", outer_sum)\n"
   ]
  },
  {
   "cell_type": "markdown",
   "id": "ae306940",
   "metadata": {},
   "source": [
    "\n",
    "## 19) Memory Layout & Strides (Overview)\n",
    "\n",
    "- Arrays are stored in contiguous (C-order) or Fortran-order memory.\n",
    "- `arr.strides` shows how many bytes to step in each dimension.\n",
    "- Most users don't need to change this, but it's useful to understand performance.\n"
   ]
  },
  {
   "cell_type": "code",
   "execution_count": null,
   "id": "d9ba6e28",
   "metadata": {},
   "outputs": [],
   "source": [
    "\n",
    "Q = np.arange(12).reshape(3,4)\n",
    "print(\"Q strides:\", Q.strides, \"itemsize:\", Q.itemsize)\n",
    "\n",
    "QT = Q.T\n",
    "print(\"Q.T strides:\", QT.strides)\n"
   ]
  },
  {
   "cell_type": "markdown",
   "id": "4309cd8e",
   "metadata": {},
   "source": [
    "\n",
    "## 20) Best Practices & Pitfalls\n",
    "\n",
    "- Prefer **vectorized** operations over Python loops.\n",
    "- Use `np.linalg.solve` instead of forming `np.linalg.inv(A) @ b`.\n",
    "- Watch out for **views vs copies** when slicing—use `.copy()` if needed.\n",
    "- Be mindful of **dtypes** (e.g., integer division vs float).\n",
    "- For random numbers, use a dedicated `Generator` and pass it around (no globals).\n",
    "- Avoid chained indexing like `A[A>0][0]` when you mean to modify—use masks directly.\n"
   ]
  },
  {
   "cell_type": "markdown",
   "id": "924284e0",
   "metadata": {},
   "source": [
    "\n",
    "## 21) Mini Exercises (Try Without Scrolling Down 😉)\n",
    "\n",
    "1. Create an array of shape `(4, 5)` with values 0..19. Extract the last column.\n",
    "2. Given `arr = np.arange(10)`, set all odd indices to -1 (in-place).\n",
    "3. Construct a 10×10 multiplication table using broadcasting.\n",
    "4. Generate 1000 samples from `N(0,1)`, compute mean and std, and compare with theory.\n",
    "5. Solve `A x = b` for a random 4×4 `A` and random `b`. Verify the residual is ~0.\n"
   ]
  },
  {
   "cell_type": "code",
   "execution_count": null,
   "id": "14b81a29",
   "metadata": {},
   "outputs": [],
   "source": [
    "\n",
    "# 1)\n",
    "A = np.arange(20).reshape(4,5)\n",
    "last_col = A[:, -1]\n",
    "print(\"1) last column:\", last_col)\n",
    "\n",
    "# 2)\n",
    "arr = np.arange(10)\n",
    "arr[1::2] = -1\n",
    "print(\"2) odds set to -1:\", arr)\n",
    "\n",
    "# 3)\n",
    "row = np.arange(1,11)[:, None]   # (10,1)\n",
    "col = np.arange(1,11)[None, :]   # (1,10)\n",
    "table = row * col\n",
    "print(\"3) multiplication table (first 5x5):\", table[:5,:5])\n",
    "\n",
    "# 4)\n",
    "samples = rng.normal(size=1000)\n",
    "print(\"4) mean:\", samples.mean(), \"std:\", samples.std())\n",
    "\n",
    "# 5)\n",
    "A = rng.normal(size=(4,4))\n",
    "b = rng.normal(size=4)\n",
    "x = np.linalg.solve(A, b)\n",
    "res = A @ x - b\n",
    "print(\"5) residual norm:\", np.linalg.norm(res))\n"
   ]
  },
  {
   "cell_type": "markdown",
   "id": "3feabaa3",
   "metadata": {},
   "source": [
    "\n",
    "## 22) Capstone Challenge 🏆\n",
    "\n",
    "**Goal:** Given a synthetic dataset, standardize features, compute correlation,\n",
    "fit a least-squares line (1 feature), and report metrics—all in NumPy.\n",
    "\n",
    "**Steps:**\n",
    "1. Generate `x` from `Uniform(0, 100)` and target `y = 3.5x + 20 + noise`, where `noise ~ N(0, 50^2)`.\n",
    "2. Standardize `x` to zero-mean and unit-std: `x_std = (x - mean) / std`.\n",
    "3. Build design matrix `X = [1, x_std]` and solve `w = (X^T X)^{-1} X^T y`.\n",
    "4. Compute predictions, MSE, and R².\n",
    "5. Print `w0` (intercept), `w1` (slope in standardized units), `MSE`, and `R²`.\n"
   ]
  },
  {
   "cell_type": "code",
   "execution_count": null,
   "id": "a06ed38c",
   "metadata": {},
   "outputs": [],
   "source": [
    "\n",
    "# 1) Data\n",
    "n = 500\n",
    "x = rng.uniform(0, 100, size=n)\n",
    "noise = rng.normal(0, 50, size=n)\n",
    "y = 3.5 * x + 20 + noise\n",
    "\n",
    "# 2) Standardize x\n",
    "x_mean = x.mean()\n",
    "x_std = x.std()\n",
    "x_s = (x - x_mean) / x_std\n",
    "\n",
    "# 3) Design matrix and solve (normal equation)\n",
    "X = np.column_stack([np.ones(n), x_s])\n",
    "w = np.linalg.inv(X.T @ X) @ (X.T @ y)\n",
    "\n",
    "# 4) Predictions & metrics\n",
    "y_hat = X @ w\n",
    "mse = np.mean((y - y_hat)**2)\n",
    "\n",
    "ss_res = np.sum((y - y_hat)**2)\n",
    "ss_tot = np.sum((y - y.mean())**2)\n",
    "r2 = 1 - ss_res / ss_tot\n",
    "\n",
    "# 5) Report\n",
    "print(f\"w0 (intercept): {w[0]:.2f}\")\n",
    "print(f\"w1 (slope, standardized x): {w[1]:.2f}\")\n",
    "print(f\"MSE: {mse:.2f}\")\n",
    "print(f\"R^2: {r2:.3f}\")\n"
   ]
  }
 ],
 "metadata": {
  "language_info": {
   "name": "python"
  }
 },
 "nbformat": 4,
 "nbformat_minor": 5
}
