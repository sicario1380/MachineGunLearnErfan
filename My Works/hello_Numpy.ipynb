{
 "cells": [
  {
   "cell_type": "code",
   "execution_count": 6,
   "id": "40b346e5-c1b1-467c-b16e-71bc9f26c3b2",
   "metadata": {},
   "outputs": [
    {
     "name": "stdout",
     "output_type": "stream",
     "text": [
      "Original 1D array: [ 0  1  2  3  4  5  6  7  8  9 10 11]\n",
      "Shape of 1D array: (12,)\n",
      "\n",
      "Reshaped 2D array:\n",
      " [[ 0  1  2  3]\n",
      " [ 4  5  6  7]\n",
      " [ 8  9 10 11]]\n",
      "Shape of 2D array: (3, 4)\n",
      "\n",
      "Reshaped 3D array:\n",
      " [[[ 0  1  2]\n",
      "  [ 3  4  5]]\n",
      "\n",
      " [[ 6  7  8]\n",
      "  [ 9 10 11]]]\n",
      "Shape of 3D array: (2, 2, 3)\n",
      "\n",
      "Reshaped array with inferred dimension:\n",
      " [[ 0  1  2]\n",
      " [ 3  4  5]\n",
      " [ 6  7  8]\n",
      " [ 9 10 11]]\n",
      "Shape of array with inferred dimension: (4, 3)\n"
     ]
    }
   ],
   "source": [
    "import numpy as np\n",
    "\n",
    "# Create a 1D array\n",
    "arr_1d = np.arange(12)\n",
    "print(\"Original 1D array:\", arr_1d)\n",
    "print(\"Shape of 1D array:\", arr_1d.shape)\n",
    "\n",
    "# Reshape to a 2D array (3 rows, 4 columns)\n",
    "arr_2d = arr_1d.reshape(3, 4)\n",
    "print(\"\\nReshaped 2D array:\\n\", arr_2d)\n",
    "print(\"Shape of 2D array:\", arr_2d.shape)\n",
    "\n",
    "# Reshape to a 3D array (2 \"layers\", 2 rows, 3 columns)\n",
    "arr_3d = arr_1d.reshape(2, 2, 3)\n",
    "print(\"\\nReshaped 3D array:\\n\", arr_3d)\n",
    "print(\"Shape of 3D array:\", arr_3d.shape)\n",
    "\n",
    "# Reshape with an inferred dimension\n",
    "arr_inferred = arr_1d.reshape(4, -1)\n",
    "print(\"\\nReshaped array with inferred dimension:\\n\", arr_inferred)\n",
    "print(\"Shape of array with inferred dimension:\", arr_inferred.shape)"
   ]
  },
  {
   "cell_type": "code",
   "execution_count": 34,
   "id": "f7218466-73b1-4255-9e92-7b9352fe5f03",
   "metadata": {},
   "outputs": [
    {
     "name": "stdout",
     "output_type": "stream",
     "text": [
      "MY ARRAY: [[1 2 3]\n",
      " [4 5 6]\n",
      " [7 8 9]]\n",
      "Columns sum: [12 15 18]\n",
      "Rows sum: [ 6 15 24]\n",
      "Rows: [ 6 15 24]\n",
      "dot product: 362880\n",
      " mean: 5.0\n",
      "9 1\n",
      "Index of min and max: 0 0\n",
      "8\n",
      "[1 2 3 4 5 6 7 8 9]\n",
      "my_array is referenced by ravel himself: [1 2 3 4 5 6 7 8 9]\n"
     ]
    }
   ],
   "source": [
    "import numpy as np \n",
    "my_array = np.arange(1,10) \n",
    "\n",
    "my_array = my_array.reshape(3,3)\n",
    "print(\"MY ARRAY:\",my_array)\n",
    "\n",
    "my_array_sum = my_array.sum(0)\n",
    "print(\"Columns sum:\",my_array_sum)\n",
    "\n",
    "my_array_sum = my_array.sum(-1)\n",
    "print(\"Rows sum:\",my_array_sum)\n",
    "\n",
    "my_array_sum = my_array.sum(axis=1)\n",
    "print(\"Rows:\",my_array_sum)\n",
    "\n",
    "arr_prod = my_array.prod()\n",
    "print(\"dot product:\",arr_prod)\n",
    "\n",
    "arr_average = my_array.mean()\n",
    "print(\" mean:\",arr_average)\n",
    "\n",
    "array_max,array_min = my_array.max(),my_array.min()\n",
    "print(array_max, array_min)\n",
    "print(\"Index of min and max:\",array_max.argmax(), array_min.argmin())\n",
    "\n",
    "peak_to_peak = np.ptp(my_array)\n",
    "print(peak_to_peak)\n",
    "\n",
    "#flatterning\n",
    "array_flat = my_array.reshape(my_array.size)\n",
    "print(array_flat)\n",
    "\n",
    "array_flat = my_array.flatten()\n",
    "array_flat = my_array.ravel()\n",
    "print(\"my_array is referenced by ravel himself:\", array_flat)"
   ]
  },
  {
   "cell_type": "code",
   "execution_count": null,
   "id": "33f64942-512b-4e37-a969-ef4e051a14ec",
   "metadata": {},
   "outputs": [],
   "source": []
  }
 ],
 "metadata": {
  "kernelspec": {
   "display_name": "Python 3 (ipykernel)",
   "language": "python",
   "name": "python3"
  },
  "language_info": {
   "codemirror_mode": {
    "name": "ipython",
    "version": 3
   },
   "file_extension": ".py",
   "mimetype": "text/x-python",
   "name": "python",
   "nbconvert_exporter": "python",
   "pygments_lexer": "ipython3",
   "version": "3.13.3"
  }
 },
 "nbformat": 4,
 "nbformat_minor": 5
}
